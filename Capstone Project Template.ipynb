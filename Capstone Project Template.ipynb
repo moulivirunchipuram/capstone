{
 "cells": [
  {
   "cell_type": "markdown",
   "metadata": {
    "editable": true
   },
   "source": [
    "# Project Title\n",
    "### Data Engineering Capstone Project\n",
    "\n",
    "#### Project Summary\n",
    "* The goal of this project is to enable data analysts and other similar parties analyze various aspects of immigration data, by collecting data from four different data sets viz.,immigration, airport codes, US Cities demographics and global temperature.  The project builds a useful schema from these datasets which will enable analysts to get an information like which origin country has more visitors visiting US, how long do they stay in the US, what's the demography of the state where the immigrants land in, and what's the average temparature of the country\n",
    "\n",
    "The project follows the follow steps:\n",
    "* Step 1: Scope the Project and Gather Data\n",
    "* Step 2: Explore and Assess the Data\n",
    "* Step 3: Define the Data Model\n",
    "* Step 4: Run ETL to Model the Data\n",
    "* Step 5: Complete Project Write Up"
   ]
  },
  {
   "cell_type": "code",
   "execution_count": 1,
   "metadata": {
    "editable": true
   },
   "outputs": [],
   "source": [
    "# import necessary libraries and user defined utilities\n",
    "import pandas as pd\n",
    "\n",
    "import os\n",
    "import configparser\n",
    "import datetime as dt\n",
    "import time\n",
    "from pyspark.sql.functions import isnan, when, count, col, udf, dayofmonth, dayofweek, month, year, weekofyear, avg, monotonically_increasing_id\n",
    "from pyspark.sql.types import *\n",
    "from pyspark.sql.functions import year, month, dayofmonth, weekofyear, date_format\n",
    "from pyspark.sql import SparkSession, SQLContext, GroupedData, HiveContext\n",
    "from pyspark.sql.functions import *\n",
    "from pyspark.sql.functions import date_add as d_add\n",
    "from pyspark.sql.types import DoubleType, StringType, IntegerType, FloatType\n",
    "from pyspark.sql import functions as F\n",
    "from pyspark.sql.functions import lit\n",
    "from pyspark.sql import Row\n",
    "import util as util\n",
    "import table_helper as helper"
   ]
  },
  {
   "cell_type": "code",
   "execution_count": 2,
   "metadata": {
    "editable": true
   },
   "outputs": [
    {
     "name": "stdout",
     "output_type": "stream",
     "text": [
      "+-----+------+------+------+------+-------+-------+-------+-------+-------+------+-------+-----+--------+--------+-----+-------+-------+-------+-------+-------+--------+------+------+-------+-------------+-----+--------+\n",
      "|cicid| i94yr|i94mon|i94cit|i94res|i94port|arrdate|i94mode|i94addr|depdate|i94bir|i94visa|count|dtadfile|visapost|occup|entdepa|entdepd|entdepu|matflag|biryear| dtaddto|gender|insnum|airline|       admnum|fltno|visatype|\n",
      "+-----+------+------+------+------+-------+-------+-------+-------+-------+------+-------+-----+--------+--------+-----+-------+-------+-------+-------+-------+--------+------+------+-------+-------------+-----+--------+\n",
      "|  6.0|2016.0|   4.0| 692.0| 692.0|    XXX|20573.0|   null|   null|   null|  37.0|    2.0|  1.0|    null|    null| null|      T|   null|      U|   null| 1979.0|10282016|  null|  null|   null|1.897628485E9| null|      B2|\n",
      "|  7.0|2016.0|   4.0| 254.0| 276.0|    ATL|20551.0|    1.0|     AL|   null|  25.0|    3.0|  1.0|20130811|     SEO| null|      G|   null|      Y|   null| 1991.0|     D/S|     M|  null|   null| 3.73679633E9|00296|      F1|\n",
      "+-----+------+------+------+------+-------+-------+-------+-------+-------+------+-------+-----+--------+--------+-----+-------+-------+-------+-------+-------+--------+------+------+-------+-------------+-----+--------+\n",
      "only showing top 2 rows\n",
      "\n"
     ]
    }
   ],
   "source": [
    "spark = SparkSession.builder.\\\n",
    "config(\"spark.jars.repositories\", \"https://repos.spark-packages.org/\").\\\n",
    "config(\"spark.jars.packages\", \"saurfang:spark-sas7bdat:2.0.0-s_2.11\").\\\n",
    "enableHiveSupport().getOrCreate()\n",
    "\n",
    "df_spark = spark.read.format('com.github.saurfang.sas.spark').load('../../data/18-83510-I94-Data-2016/i94_apr16_sub.sas7bdat')\n",
    "df_spark.show(2)"
   ]
  },
  {
   "cell_type": "code",
   "execution_count": 4,
   "metadata": {
    "editable": true
   },
   "outputs": [
    {
     "name": "stdout",
     "output_type": "stream",
     "text": [
      "3096313 28\n"
     ]
    }
   ],
   "source": [
    "print(df_spark.count(),len(df_spark.columns))"
   ]
  },
  {
   "cell_type": "code",
   "execution_count": 5,
   "metadata": {
    "editable": true
   },
   "outputs": [
    {
     "data": {
      "text/plain": [
       "0"
      ]
     },
     "execution_count": 5,
     "metadata": {},
     "output_type": "execute_result"
    }
   ],
   "source": [
    "# dt = util.convert_sas_to_date(20573.0)\n",
    "# dt.minute"
   ]
  },
  {
   "cell_type": "markdown",
   "metadata": {
    "editable": true
   },
   "source": [
    "### Step 1: Scope the Project and Gather Data\n",
    "\n",
    "#### Scope \n",
    "Explain what you plan to do in the project in more detail. What data do you use? What is your end solution look like? What tools did you use?\n",
    "\n",
    "* Purpose of this project is to facilitate meaningful US immigration data analysis for parties like data analysts.\n",
    "    \n",
    "* Clean the raw data obtained from the above sources\n",
    "* Write them to parquet files\n",
    "* Perform ETL using Spark Cluster\n",
    "* Create necessary Fact and Dimension tables in Star Schema\n",
    "* Load data into the above table\n",
    "\n",
    "#### Describe and Gather Data \n",
    "Describe the data sets you're using. Where did it come from? What type of information is included?\n",
    "\n",
    "* i94 Immigration Sample Data <br>\n",
    "    * This data set includes various information of person entering and leaving US like origin country, departure date, arrival date, port of entry, date of departure, visa type to name a few.\n",
    "* US City Demographic Data from  https://public.opendatasoft.com/explore/dataset/us-cities-demographics/export/ _(provided in udacity workspace)_<br>\n",
    "    * This data set contains total populattion, median age, race, average household size, no. of veterans etc.\n",
    "* Airport Codes from https://datahub.io/core/airport-codes#data. _(provided in udacity workspace)_<br>\n",
    "    * This data includes details of country code, airport code, corresponding city code, elevation, type of airport (small, heliport, large etc).\n",
    "* Global Temperature Data is available in udacity workspace _(GlobalLandTemperaturesByCity.csv)_ "
   ]
  },
  {
   "cell_type": "code",
   "execution_count": 3,
   "metadata": {
    "editable": true
   },
   "outputs": [
    {
     "data": {
      "text/html": [
       "<div>\n",
       "<style scoped>\n",
       "    .dataframe tbody tr th:only-of-type {\n",
       "        vertical-align: middle;\n",
       "    }\n",
       "\n",
       "    .dataframe tbody tr th {\n",
       "        vertical-align: top;\n",
       "    }\n",
       "\n",
       "    .dataframe thead th {\n",
       "        text-align: right;\n",
       "    }\n",
       "</style>\n",
       "<table border=\"1\" class=\"dataframe\">\n",
       "  <thead>\n",
       "    <tr style=\"text-align: right;\">\n",
       "      <th></th>\n",
       "      <th>Unnamed: 0</th>\n",
       "      <th>cicid</th>\n",
       "      <th>i94yr</th>\n",
       "      <th>i94mon</th>\n",
       "      <th>i94cit</th>\n",
       "      <th>i94res</th>\n",
       "      <th>i94port</th>\n",
       "      <th>arrdate</th>\n",
       "      <th>i94mode</th>\n",
       "      <th>i94addr</th>\n",
       "      <th>...</th>\n",
       "      <th>entdepu</th>\n",
       "      <th>matflag</th>\n",
       "      <th>biryear</th>\n",
       "      <th>dtaddto</th>\n",
       "      <th>gender</th>\n",
       "      <th>insnum</th>\n",
       "      <th>airline</th>\n",
       "      <th>admnum</th>\n",
       "      <th>fltno</th>\n",
       "      <th>visatype</th>\n",
       "    </tr>\n",
       "  </thead>\n",
       "  <tbody>\n",
       "    <tr>\n",
       "      <th>0</th>\n",
       "      <td>2027561</td>\n",
       "      <td>4084316.0</td>\n",
       "      <td>2016.0</td>\n",
       "      <td>4.0</td>\n",
       "      <td>209.0</td>\n",
       "      <td>209.0</td>\n",
       "      <td>HHW</td>\n",
       "      <td>20566.0</td>\n",
       "      <td>1.0</td>\n",
       "      <td>HI</td>\n",
       "      <td>...</td>\n",
       "      <td>NaN</td>\n",
       "      <td>M</td>\n",
       "      <td>1955.0</td>\n",
       "      <td>07202016</td>\n",
       "      <td>F</td>\n",
       "      <td>NaN</td>\n",
       "      <td>JL</td>\n",
       "      <td>5.658267e+10</td>\n",
       "      <td>00782</td>\n",
       "      <td>WT</td>\n",
       "    </tr>\n",
       "  </tbody>\n",
       "</table>\n",
       "<p>1 rows × 29 columns</p>\n",
       "</div>"
      ],
      "text/plain": [
       "   Unnamed: 0      cicid   i94yr  i94mon  i94cit  i94res i94port  arrdate  \\\n",
       "0     2027561  4084316.0  2016.0     4.0   209.0   209.0     HHW  20566.0   \n",
       "\n",
       "   i94mode i94addr    ...     entdepu  matflag  biryear   dtaddto  gender  \\\n",
       "0      1.0      HI    ...         NaN        M   1955.0  07202016       F   \n",
       "\n",
       "  insnum airline        admnum  fltno  visatype  \n",
       "0    NaN      JL  5.658267e+10  00782        WT  \n",
       "\n",
       "[1 rows x 29 columns]"
      ]
     },
     "execution_count": 3,
     "metadata": {},
     "output_type": "execute_result"
    }
   ],
   "source": [
    "immigration_data = 'immigration_data_sample.csv'\n",
    "immigration_df = pd.read_csv(immigration_data)\n",
    "immigration_df.head(1)"
   ]
  },
  {
   "cell_type": "markdown",
   "metadata": {
    "editable": true
   },
   "source": [
    "#### Global Temperature Data"
   ]
  },
  {
   "cell_type": "code",
   "execution_count": 4,
   "metadata": {
    "editable": true
   },
   "outputs": [],
   "source": [
    "file_name = '../../data2/GlobalLandTemperaturesByCity.csv'\n",
    "global_temperature_df = pd.read_csv(file_name)"
   ]
  },
  {
   "cell_type": "code",
   "execution_count": 6,
   "metadata": {
    "editable": true
   },
   "outputs": [
    {
     "data": {
      "text/plain": [
       "(8599212, 7)"
      ]
     },
     "execution_count": 6,
     "metadata": {},
     "output_type": "execute_result"
    }
   ],
   "source": [
    "global_temperature_df.shape"
   ]
  },
  {
   "cell_type": "code",
   "execution_count": 5,
   "metadata": {
    "editable": true
   },
   "outputs": [
    {
     "data": {
      "text/html": [
       "<div>\n",
       "<style scoped>\n",
       "    .dataframe tbody tr th:only-of-type {\n",
       "        vertical-align: middle;\n",
       "    }\n",
       "\n",
       "    .dataframe tbody tr th {\n",
       "        vertical-align: top;\n",
       "    }\n",
       "\n",
       "    .dataframe thead th {\n",
       "        text-align: right;\n",
       "    }\n",
       "</style>\n",
       "<table border=\"1\" class=\"dataframe\">\n",
       "  <thead>\n",
       "    <tr style=\"text-align: right;\">\n",
       "      <th></th>\n",
       "      <th>dt</th>\n",
       "      <th>AverageTemperature</th>\n",
       "      <th>AverageTemperatureUncertainty</th>\n",
       "      <th>City</th>\n",
       "      <th>Country</th>\n",
       "      <th>Latitude</th>\n",
       "      <th>Longitude</th>\n",
       "    </tr>\n",
       "  </thead>\n",
       "  <tbody>\n",
       "    <tr>\n",
       "      <th>0</th>\n",
       "      <td>1743-11-01</td>\n",
       "      <td>6.068</td>\n",
       "      <td>1.737</td>\n",
       "      <td>Århus</td>\n",
       "      <td>Denmark</td>\n",
       "      <td>57.05N</td>\n",
       "      <td>10.33E</td>\n",
       "    </tr>\n",
       "  </tbody>\n",
       "</table>\n",
       "</div>"
      ],
      "text/plain": [
       "           dt  AverageTemperature  AverageTemperatureUncertainty   City  \\\n",
       "0  1743-11-01               6.068                          1.737  Århus   \n",
       "\n",
       "   Country Latitude Longitude  \n",
       "0  Denmark   57.05N    10.33E  "
      ]
     },
     "execution_count": 5,
     "metadata": {},
     "output_type": "execute_result"
    }
   ],
   "source": [
    "global_temperature_df.head(1)"
   ]
  },
  {
   "cell_type": "code",
   "execution_count": 6,
   "metadata": {
    "editable": true
   },
   "outputs": [
    {
     "data": {
      "text/plain": [
       "(579150, 7)"
      ]
     },
     "execution_count": 6,
     "metadata": {},
     "output_type": "execute_result"
    }
   ],
   "source": [
    "dt_begin = \"2000-01-01\"\n",
    "dt_end = \"2019-01-01\"\n",
    "after_dt_begin = global_temperature_df[\"dt\"] >= dt_begin\n",
    "before_dt_end = global_temperature_df[\"dt\"] < dt_end\n",
    "dt_range = after_dt_begin & before_dt_end\n",
    "global_temperature_df = global_temperature_df.loc[dt_range]\n",
    "global_temperature_df.shape"
   ]
  },
  {
   "cell_type": "code",
   "execution_count": 8,
   "metadata": {
    "editable": true
   },
   "outputs": [
    {
     "data": {
      "text/html": [
       "<div>\n",
       "<style scoped>\n",
       "    .dataframe tbody tr th:only-of-type {\n",
       "        vertical-align: middle;\n",
       "    }\n",
       "\n",
       "    .dataframe tbody tr th {\n",
       "        vertical-align: top;\n",
       "    }\n",
       "\n",
       "    .dataframe thead th {\n",
       "        text-align: right;\n",
       "    }\n",
       "</style>\n",
       "<table border=\"1\" class=\"dataframe\">\n",
       "  <thead>\n",
       "    <tr style=\"text-align: right;\">\n",
       "      <th></th>\n",
       "      <th>dt</th>\n",
       "      <th>AverageTemperature</th>\n",
       "      <th>AverageTemperatureUncertainty</th>\n",
       "      <th>City</th>\n",
       "      <th>Country</th>\n",
       "      <th>Latitude</th>\n",
       "      <th>Longitude</th>\n",
       "    </tr>\n",
       "  </thead>\n",
       "  <tbody>\n",
       "    <tr>\n",
       "      <th>3074</th>\n",
       "      <td>2000-01-01</td>\n",
       "      <td>3.065</td>\n",
       "      <td>0.372</td>\n",
       "      <td>Århus</td>\n",
       "      <td>Denmark</td>\n",
       "      <td>57.05N</td>\n",
       "      <td>10.33E</td>\n",
       "    </tr>\n",
       "    <tr>\n",
       "      <th>3075</th>\n",
       "      <td>2000-02-01</td>\n",
       "      <td>3.724</td>\n",
       "      <td>0.241</td>\n",
       "      <td>Århus</td>\n",
       "      <td>Denmark</td>\n",
       "      <td>57.05N</td>\n",
       "      <td>10.33E</td>\n",
       "    </tr>\n",
       "    <tr>\n",
       "      <th>3076</th>\n",
       "      <td>2000-03-01</td>\n",
       "      <td>3.976</td>\n",
       "      <td>0.296</td>\n",
       "      <td>Århus</td>\n",
       "      <td>Denmark</td>\n",
       "      <td>57.05N</td>\n",
       "      <td>10.33E</td>\n",
       "    </tr>\n",
       "    <tr>\n",
       "      <th>3077</th>\n",
       "      <td>2000-04-01</td>\n",
       "      <td>8.321</td>\n",
       "      <td>0.221</td>\n",
       "      <td>Århus</td>\n",
       "      <td>Denmark</td>\n",
       "      <td>57.05N</td>\n",
       "      <td>10.33E</td>\n",
       "    </tr>\n",
       "    <tr>\n",
       "      <th>3078</th>\n",
       "      <td>2000-05-01</td>\n",
       "      <td>13.567</td>\n",
       "      <td>0.253</td>\n",
       "      <td>Århus</td>\n",
       "      <td>Denmark</td>\n",
       "      <td>57.05N</td>\n",
       "      <td>10.33E</td>\n",
       "    </tr>\n",
       "  </tbody>\n",
       "</table>\n",
       "</div>"
      ],
      "text/plain": [
       "              dt  AverageTemperature  AverageTemperatureUncertainty   City  \\\n",
       "3074  2000-01-01               3.065                          0.372  Århus   \n",
       "3075  2000-02-01               3.724                          0.241  Århus   \n",
       "3076  2000-03-01               3.976                          0.296  Århus   \n",
       "3077  2000-04-01               8.321                          0.221  Århus   \n",
       "3078  2000-05-01              13.567                          0.253  Århus   \n",
       "\n",
       "      Country Latitude Longitude  \n",
       "3074  Denmark   57.05N    10.33E  \n",
       "3075  Denmark   57.05N    10.33E  \n",
       "3076  Denmark   57.05N    10.33E  \n",
       "3077  Denmark   57.05N    10.33E  \n",
       "3078  Denmark   57.05N    10.33E  "
      ]
     },
     "execution_count": 8,
     "metadata": {},
     "output_type": "execute_result"
    }
   ],
   "source": [
    "global_temperature_df.head()"
   ]
  },
  {
   "cell_type": "code",
   "execution_count": 7,
   "metadata": {
    "editable": true
   },
   "outputs": [],
   "source": [
    "global_temperature_df = global_temperature_df.dropna()"
   ]
  },
  {
   "cell_type": "code",
   "execution_count": 8,
   "metadata": {
    "editable": true
   },
   "outputs": [
    {
     "name": "stdout",
     "output_type": "stream",
     "text": [
      "finished checking for null\n"
     ]
    }
   ],
   "source": [
    "for column in global_temperature_df:\n",
    "    values = global_temperature_df[column].unique()\n",
    "    if(True in pd.isnull(values)):\n",
    "        print(f\"column {column} has null value\")\n",
    "print(\"finished checking for null\")"
   ]
  },
  {
   "cell_type": "code",
   "execution_count": 9,
   "metadata": {
    "editable": true
   },
   "outputs": [
    {
     "data": {
      "text/plain": [
       "dt                                object\n",
       "AverageTemperature               float64\n",
       "AverageTemperatureUncertainty    float64\n",
       "City                              object\n",
       "Country                           object\n",
       "Latitude                          object\n",
       "Longitude                         object\n",
       "dtype: object"
      ]
     },
     "execution_count": 9,
     "metadata": {},
     "output_type": "execute_result"
    }
   ],
   "source": [
    "global_temperature_df.dtypes"
   ]
  },
  {
   "cell_type": "markdown",
   "metadata": {
    "editable": true
   },
   "source": [
    " #### AIRPORT CODES"
   ]
  },
  {
   "cell_type": "code",
   "execution_count": 10,
   "metadata": {
    "editable": true
   },
   "outputs": [
    {
     "data": {
      "text/plain": [
       "(55075, 12)"
      ]
     },
     "execution_count": 10,
     "metadata": {},
     "output_type": "execute_result"
    }
   ],
   "source": [
    "airport_codes_csv = 'airport-codes_csv.csv'\n",
    "airport_codes_df = pd.read_csv(airport_codes_csv)\n",
    "airport_codes_df.shape"
   ]
  },
  {
   "cell_type": "code",
   "execution_count": 11,
   "metadata": {
    "editable": true
   },
   "outputs": [
    {
     "name": "stdout",
     "output_type": "stream",
     "text": [
      "removing rows with null values for ['iata_code', 'local_code']\n",
      "total rows before clean up 55075\n",
      "total rows after clean up 2987\n"
     ]
    }
   ],
   "source": [
    "column_list = ['iata_code', 'local_code']\n",
    "airport_codes_df = util.cleanup_missing_column_values(airport_codes_df,column_list)"
   ]
  },
  {
   "cell_type": "code",
   "execution_count": 12,
   "metadata": {
    "editable": true
   },
   "outputs": [
    {
     "data": {
      "text/html": [
       "<div>\n",
       "<style scoped>\n",
       "    .dataframe tbody tr th:only-of-type {\n",
       "        vertical-align: middle;\n",
       "    }\n",
       "\n",
       "    .dataframe tbody tr th {\n",
       "        vertical-align: top;\n",
       "    }\n",
       "\n",
       "    .dataframe thead th {\n",
       "        text-align: right;\n",
       "    }\n",
       "</style>\n",
       "<table border=\"1\" class=\"dataframe\">\n",
       "  <thead>\n",
       "    <tr style=\"text-align: right;\">\n",
       "      <th></th>\n",
       "      <th>ident</th>\n",
       "      <th>type</th>\n",
       "      <th>name</th>\n",
       "      <th>elevation_ft</th>\n",
       "      <th>continent</th>\n",
       "      <th>iso_country</th>\n",
       "      <th>iso_region</th>\n",
       "      <th>municipality</th>\n",
       "      <th>gps_code</th>\n",
       "      <th>iata_code</th>\n",
       "      <th>local_code</th>\n",
       "      <th>coordinates</th>\n",
       "    </tr>\n",
       "  </thead>\n",
       "  <tbody>\n",
       "    <tr>\n",
       "      <th>223</th>\n",
       "      <td>03N</td>\n",
       "      <td>small_airport</td>\n",
       "      <td>Utirik Airport</td>\n",
       "      <td>4.0</td>\n",
       "      <td>OC</td>\n",
       "      <td>MH</td>\n",
       "      <td>MH-UTI</td>\n",
       "      <td>Utirik Island</td>\n",
       "      <td>K03N</td>\n",
       "      <td>UTK</td>\n",
       "      <td>03N</td>\n",
       "      <td>169.852005, 11.222</td>\n",
       "    </tr>\n",
       "  </tbody>\n",
       "</table>\n",
       "</div>"
      ],
      "text/plain": [
       "    ident           type            name  elevation_ft continent iso_country  \\\n",
       "223   03N  small_airport  Utirik Airport           4.0        OC          MH   \n",
       "\n",
       "    iso_region   municipality gps_code iata_code local_code  \\\n",
       "223     MH-UTI  Utirik Island     K03N       UTK        03N   \n",
       "\n",
       "            coordinates  \n",
       "223  169.852005, 11.222  "
      ]
     },
     "execution_count": 12,
     "metadata": {},
     "output_type": "execute_result"
    }
   ],
   "source": [
    "airport_codes_df.head(1)"
   ]
  },
  {
   "cell_type": "code",
   "execution_count": 15,
   "metadata": {
    "editable": true
   },
   "outputs": [
    {
     "data": {
      "text/plain": [
       "(2987, 12)"
      ]
     },
     "execution_count": 15,
     "metadata": {},
     "output_type": "execute_result"
    }
   ],
   "source": [
    "airport_codes_df.shape"
   ]
  },
  {
   "cell_type": "markdown",
   "metadata": {
    "editable": true
   },
   "source": [
    "#### US CITY DEMOGRAPHICS"
   ]
  },
  {
   "cell_type": "code",
   "execution_count": 13,
   "metadata": {
    "editable": true
   },
   "outputs": [
    {
     "data": {
      "text/html": [
       "<div>\n",
       "<style scoped>\n",
       "    .dataframe tbody tr th:only-of-type {\n",
       "        vertical-align: middle;\n",
       "    }\n",
       "\n",
       "    .dataframe tbody tr th {\n",
       "        vertical-align: top;\n",
       "    }\n",
       "\n",
       "    .dataframe thead th {\n",
       "        text-align: right;\n",
       "    }\n",
       "</style>\n",
       "<table border=\"1\" class=\"dataframe\">\n",
       "  <thead>\n",
       "    <tr style=\"text-align: right;\">\n",
       "      <th></th>\n",
       "      <th>City</th>\n",
       "      <th>State</th>\n",
       "      <th>Median Age</th>\n",
       "      <th>Male Population</th>\n",
       "      <th>Female Population</th>\n",
       "      <th>Total Population</th>\n",
       "      <th>Number of Veterans</th>\n",
       "      <th>Foreign-born</th>\n",
       "      <th>Average Household Size</th>\n",
       "      <th>State Code</th>\n",
       "      <th>Race</th>\n",
       "      <th>Count</th>\n",
       "    </tr>\n",
       "  </thead>\n",
       "  <tbody>\n",
       "    <tr>\n",
       "      <th>0</th>\n",
       "      <td>Silver Spring</td>\n",
       "      <td>Maryland</td>\n",
       "      <td>33.8</td>\n",
       "      <td>40601.0</td>\n",
       "      <td>41862.0</td>\n",
       "      <td>82463</td>\n",
       "      <td>1562.0</td>\n",
       "      <td>30908.0</td>\n",
       "      <td>2.6</td>\n",
       "      <td>MD</td>\n",
       "      <td>Hispanic or Latino</td>\n",
       "      <td>25924</td>\n",
       "    </tr>\n",
       "  </tbody>\n",
       "</table>\n",
       "</div>"
      ],
      "text/plain": [
       "            City     State  Median Age  Male Population  Female Population  \\\n",
       "0  Silver Spring  Maryland        33.8          40601.0            41862.0   \n",
       "\n",
       "   Total Population  Number of Veterans  Foreign-born  Average Household Size  \\\n",
       "0             82463              1562.0       30908.0                     2.6   \n",
       "\n",
       "  State Code                Race  Count  \n",
       "0         MD  Hispanic or Latino  25924  "
      ]
     },
     "execution_count": 13,
     "metadata": {},
     "output_type": "execute_result"
    }
   ],
   "source": [
    "us_cities_dem_csv = \"us-cities-demographics.csv\"\n",
    "demographics_df = pd.read_csv(us_cities_dem_csv, delimiter=';')\n",
    "demographics_df.head(1)"
   ]
  },
  {
   "cell_type": "code",
   "execution_count": 17,
   "metadata": {
    "editable": true
   },
   "outputs": [
    {
     "data": {
      "text/plain": [
       "(2891, 12)"
      ]
     },
     "execution_count": 17,
     "metadata": {},
     "output_type": "execute_result"
    }
   ],
   "source": [
    "demographics_df.shape"
   ]
  },
  {
   "cell_type": "code",
   "execution_count": 14,
   "metadata": {
    "editable": true
   },
   "outputs": [
    {
     "name": "stdout",
     "output_type": "stream",
     "text": [
      "column Male Population has null value\n",
      "column Female Population has null value\n",
      "column Number of Veterans has null value\n",
      "column Foreign-born has null value\n",
      "column Average Household Size has null value\n",
      "finished checking for null\n"
     ]
    }
   ],
   "source": [
    "demographics_df.shape\n",
    "\n",
    "for column in demographics_df:\n",
    "    values = demographics_df[column].unique()\n",
    "    if(True in pd.isnull(values)):\n",
    "        print(f\"column {column} has null value\")\n",
    "print(\"finished checking for null\")        \n"
   ]
  },
  {
   "cell_type": "markdown",
   "metadata": {
    "editable": true
   },
   "source": [
    "#### Build country code to country name data frame \n",
    "_(The following code is used based on a direction from a mentor)_"
   ]
  },
  {
   "cell_type": "code",
   "execution_count": 15,
   "metadata": {
    "editable": true
   },
   "outputs": [
    {
     "data": {
      "text/html": [
       "<div>\n",
       "<style scoped>\n",
       "    .dataframe tbody tr th:only-of-type {\n",
       "        vertical-align: middle;\n",
       "    }\n",
       "\n",
       "    .dataframe tbody tr th {\n",
       "        vertical-align: top;\n",
       "    }\n",
       "\n",
       "    .dataframe thead th {\n",
       "        text-align: right;\n",
       "    }\n",
       "</style>\n",
       "<table border=\"1\" class=\"dataframe\">\n",
       "  <thead>\n",
       "    <tr style=\"text-align: right;\">\n",
       "      <th></th>\n",
       "      <th>code</th>\n",
       "      <th>country</th>\n",
       "    </tr>\n",
       "  </thead>\n",
       "  <tbody>\n",
       "    <tr>\n",
       "      <th>0</th>\n",
       "      <td>236</td>\n",
       "      <td>AFGHANISTAN</td>\n",
       "    </tr>\n",
       "    <tr>\n",
       "      <th>1</th>\n",
       "      <td>101</td>\n",
       "      <td>ALBANIA</td>\n",
       "    </tr>\n",
       "    <tr>\n",
       "      <th>2</th>\n",
       "      <td>316</td>\n",
       "      <td>ALGERIA</td>\n",
       "    </tr>\n",
       "    <tr>\n",
       "      <th>3</th>\n",
       "      <td>102</td>\n",
       "      <td>ANDORRA</td>\n",
       "    </tr>\n",
       "    <tr>\n",
       "      <th>4</th>\n",
       "      <td>324</td>\n",
       "      <td>ANGOLA</td>\n",
       "    </tr>\n",
       "  </tbody>\n",
       "</table>\n",
       "</div>"
      ],
      "text/plain": [
       "  code      country\n",
       "0  236  AFGHANISTAN\n",
       "1  101      ALBANIA\n",
       "2  316      ALGERIA\n",
       "3  102      ANDORRA\n",
       "4  324       ANGOLA"
      ]
     },
     "execution_count": 15,
     "metadata": {},
     "output_type": "execute_result"
    }
   ],
   "source": [
    "#extract country name and country code from I94_SAS_Labels_Descriptions.SAS\n",
    "\n",
    "with open(\"I94_SAS_Labels_Descriptions.SAS\") as f:\n",
    "    contents = f.readlines()\n",
    "    country_code = {}\n",
    "    for countries in contents[10:298]:\n",
    "        pair = countries.split('=')\n",
    "        code,country = pair[0].strip(), pair[1].strip().strip(\"'\")\n",
    "        country_code[code] = country\n",
    "country_code_df = pd.DataFrame(list(country_code.items()),columns=['code','country'])\n",
    "country_code_df.head(5)"
   ]
  },
  {
   "cell_type": "markdown",
   "metadata": {
    "editable": true
   },
   "source": [
    "### Step 2: Explore and Assess the Data\n",
    "#### Explore the Data \n",
    "Identify data quality issues, like missing values, duplicate data, etc.\n",
    "\n",
    "#### Cleaning Steps\n",
    "* Clean up data with null values in important columns\n",
    "* Drop duplicate rows"
   ]
  },
  {
   "cell_type": "code",
   "execution_count": 16,
   "metadata": {
    "editable": true
   },
   "outputs": [
    {
     "name": "stdout",
     "output_type": "stream",
     "text": [
      "removing rows with null values for ['arrdate', 'depdate']\n",
      "total rows before clean up 1000\n",
      "total rows after clean up 951\n",
      "Displaying number of unique values for given columns in  immigration_df dataframe\n",
      "There are 97 unique values in column visapost\n"
     ]
    }
   ],
   "source": [
    "# clean up Immigration data\n",
    "column_list = [\"arrdate\",\"depdate\"]\n",
    "immigration_df = util.cleanup_missing_column_values(immigration_df,column_list)\n",
    "immigration_df = immigration_df.drop_duplicates()\n",
    "\n",
    "#dropping columns insnum and occup as there are null values for majority of the rows\n",
    "# immigration_df = immigration_df.drop('insnum', axis=1)\n",
    "# immigration_df = immigration_df.drop('occup', axis=1)\n",
    "util.report_unique_info(immigration_df, \"immigration_df\", [\"visapost\"])"
   ]
  },
  {
   "cell_type": "code",
   "execution_count": 17,
   "metadata": {
    "editable": true
   },
   "outputs": [
    {
     "name": "stdout",
     "output_type": "stream",
     "text": [
      "removing rows with null values for ['AverageTemperature', 'Country']\n",
      "total rows before clean up 576080\n",
      "total rows after clean up 576080\n"
     ]
    },
    {
     "data": {
      "text/plain": [
       "(576080, 7)"
      ]
     },
     "execution_count": 17,
     "metadata": {},
     "output_type": "execute_result"
    }
   ],
   "source": [
    "# clean up Global Temperature data\n",
    "column_list = [\"AverageTemperature\", \"Country\"]\n",
    "global_temperature_df = util.cleanup_missing_column_values(global_temperature_df,column_list)\n",
    "global_temperature_df = global_temperature_df.dropna()\n",
    "global_temperature_df.shape"
   ]
  },
  {
   "cell_type": "code",
   "execution_count": 18,
   "metadata": {
    "editable": true
   },
   "outputs": [
    {
     "name": "stdout",
     "output_type": "stream",
     "text": [
      "Discarding historical data and work with data for recent 20 years\n"
     ]
    },
    {
     "data": {
      "text/plain": [
       "(576080, 7)"
      ]
     },
     "execution_count": 18,
     "metadata": {},
     "output_type": "execute_result"
    }
   ],
   "source": [
    "#discard historical data and work with data for past 20 years\n",
    "print(\"Discarding historical data and work with data for recent 20 years\")\n",
    "dt_begin = \"2000-01-01\"\n",
    "dt_end = \"2019-01-01\"\n",
    "after_dt_begin = global_temperature_df[\"dt\"] >= dt_begin\n",
    "before_dt_end = global_temperature_df[\"dt\"] < dt_end\n",
    "dt_range = after_dt_begin & before_dt_end\n",
    "global_temperature_df = global_temperature_df.loc[dt_range]\n",
    "global_temperature_df.shape"
   ]
  },
  {
   "cell_type": "code",
   "execution_count": 19,
   "metadata": {
    "editable": true
   },
   "outputs": [
    {
     "data": {
      "text/html": [
       "<div>\n",
       "<style scoped>\n",
       "    .dataframe tbody tr th:only-of-type {\n",
       "        vertical-align: middle;\n",
       "    }\n",
       "\n",
       "    .dataframe tbody tr th {\n",
       "        vertical-align: top;\n",
       "    }\n",
       "\n",
       "    .dataframe thead th {\n",
       "        text-align: right;\n",
       "    }\n",
       "</style>\n",
       "<table border=\"1\" class=\"dataframe\">\n",
       "  <thead>\n",
       "    <tr style=\"text-align: right;\">\n",
       "      <th></th>\n",
       "      <th>dt</th>\n",
       "      <th>AverageTemperature</th>\n",
       "      <th>AverageTemperatureUncertainty</th>\n",
       "      <th>City</th>\n",
       "      <th>Country</th>\n",
       "      <th>Latitude</th>\n",
       "      <th>Longitude</th>\n",
       "    </tr>\n",
       "  </thead>\n",
       "  <tbody>\n",
       "    <tr>\n",
       "      <th>3074</th>\n",
       "      <td>2000-01-01</td>\n",
       "      <td>3.065</td>\n",
       "      <td>0.372</td>\n",
       "      <td>Århus</td>\n",
       "      <td>Denmark</td>\n",
       "      <td>57.05N</td>\n",
       "      <td>10.33E</td>\n",
       "    </tr>\n",
       "    <tr>\n",
       "      <th>3075</th>\n",
       "      <td>2000-02-01</td>\n",
       "      <td>3.724</td>\n",
       "      <td>0.241</td>\n",
       "      <td>Århus</td>\n",
       "      <td>Denmark</td>\n",
       "      <td>57.05N</td>\n",
       "      <td>10.33E</td>\n",
       "    </tr>\n",
       "    <tr>\n",
       "      <th>3076</th>\n",
       "      <td>2000-03-01</td>\n",
       "      <td>3.976</td>\n",
       "      <td>0.296</td>\n",
       "      <td>Århus</td>\n",
       "      <td>Denmark</td>\n",
       "      <td>57.05N</td>\n",
       "      <td>10.33E</td>\n",
       "    </tr>\n",
       "    <tr>\n",
       "      <th>3077</th>\n",
       "      <td>2000-04-01</td>\n",
       "      <td>8.321</td>\n",
       "      <td>0.221</td>\n",
       "      <td>Århus</td>\n",
       "      <td>Denmark</td>\n",
       "      <td>57.05N</td>\n",
       "      <td>10.33E</td>\n",
       "    </tr>\n",
       "    <tr>\n",
       "      <th>3078</th>\n",
       "      <td>2000-05-01</td>\n",
       "      <td>13.567</td>\n",
       "      <td>0.253</td>\n",
       "      <td>Århus</td>\n",
       "      <td>Denmark</td>\n",
       "      <td>57.05N</td>\n",
       "      <td>10.33E</td>\n",
       "    </tr>\n",
       "  </tbody>\n",
       "</table>\n",
       "</div>"
      ],
      "text/plain": [
       "              dt  AverageTemperature  AverageTemperatureUncertainty   City  \\\n",
       "3074  2000-01-01               3.065                          0.372  Århus   \n",
       "3075  2000-02-01               3.724                          0.241  Århus   \n",
       "3076  2000-03-01               3.976                          0.296  Århus   \n",
       "3077  2000-04-01               8.321                          0.221  Århus   \n",
       "3078  2000-05-01              13.567                          0.253  Århus   \n",
       "\n",
       "      Country Latitude Longitude  \n",
       "3074  Denmark   57.05N    10.33E  \n",
       "3075  Denmark   57.05N    10.33E  \n",
       "3076  Denmark   57.05N    10.33E  \n",
       "3077  Denmark   57.05N    10.33E  \n",
       "3078  Denmark   57.05N    10.33E  "
      ]
     },
     "execution_count": 19,
     "metadata": {},
     "output_type": "execute_result"
    }
   ],
   "source": [
    "global_temperature_df.head()"
   ]
  },
  {
   "cell_type": "code",
   "execution_count": 20,
   "metadata": {
    "editable": true
   },
   "outputs": [
    {
     "name": "stdout",
     "output_type": "stream",
     "text": [
      "removing rows with null values for ['iata_code', 'local_code']\n",
      "total rows before clean up 2987\n",
      "total rows after clean up 2987\n"
     ]
    },
    {
     "data": {
      "text/plain": [
       "(2987, 12)"
      ]
     },
     "execution_count": 20,
     "metadata": {},
     "output_type": "execute_result"
    }
   ],
   "source": [
    "# clean up Airport codes\n",
    "column_list = ['iata_code', 'local_code']\n",
    "airport_codes_df = util.cleanup_missing_column_values(airport_codes_df,column_list)\n",
    "airport_codes_df.shape"
   ]
  },
  {
   "cell_type": "code",
   "execution_count": 21,
   "metadata": {
    "editable": true
   },
   "outputs": [
    {
     "data": {
      "text/plain": [
       "(2875, 12)"
      ]
     },
     "execution_count": 21,
     "metadata": {},
     "output_type": "execute_result"
    }
   ],
   "source": [
    "demographics_df = demographics_df.drop_duplicates()\n",
    "demographics_df = demographics_df.dropna()\n",
    "# need to remove rows that have null values for the following columns\n",
    "# Male Population, Female Population\n",
    "# column_list = ['Male Population', 'Female Population',]\n",
    "# demographics_df = util.cleanup_missing_column_values(demographics_df,column_list)\n",
    "demographics_df.shape"
   ]
  },
  {
   "cell_type": "markdown",
   "metadata": {
    "editable": true
   },
   "source": [
    "### Step 3: Define the Data Model\n",
    "#### 3.1 Conceptual Data Model\n",
    "Map out the conceptual data model and explain why you chose that model\n",
    "\n",
    "* The process of admitting a visitor to the US triggers events that can be classifed as facts.  In this project we are creating immigration fact table\n",
    "* Derive dimension tables\n",
    "    * airport\n",
    "    * time\n",
    "    * status\n",
    "    * visa\n",
    "    * temperature\n",
    "    * country\n",
    "    * state\n",
    "\n",
    "\n",
    "#### 3.2 Mapping Out Data Pipelines\n",
    "List the steps necessary to pipeline the data into the chosen data model\n",
    "\n",
    "* Load data into staging environment\n",
    "* Create fact and dimension tables\n",
    "* Write table data into parquet files\n",
    "* Run data quality tests"
   ]
  },
  {
   "cell_type": "markdown",
   "metadata": {
    "editable": true
   },
   "source": [
    "### Step 4: Run Pipelines to Model the Data \n",
    "#### 4.1 Create the data model\n",
    "Build the data pipelines to create the data model."
   ]
  },
  {
   "cell_type": "code",
   "execution_count": 22,
   "metadata": {
    "editable": true
   },
   "outputs": [],
   "source": [
    "\n",
    "# not including insnum, occup columns as majority of rows contain null value for these columns\n",
    "# also these columns are dropped from the data frame\n",
    "immigration_df.drop([\"insnum\",\"occup\"], inplace=True, axis=1)\n",
    "immig_schema = StructType([StructField(\"0\", IntegerType(), True)\\\n",
    "                          ,StructField(\"cicid\", FloatType(), True)\\\n",
    "                          ,StructField(\"i94yr\", FloatType(), True)\\\n",
    "                          ,StructField(\"i94mon\", FloatType(), True)\\\n",
    "                          ,StructField(\"i94cit\", FloatType(), True)\\\n",
    "                          ,StructField(\"i94res\", FloatType(), True)\\\n",
    "                          ,StructField(\"i94port\", StringType(), True)\\\n",
    "                          ,StructField(\"arrdate\", FloatType(), True)\\\n",
    "                          ,StructField(\"i94mode\", FloatType(), True)\\\n",
    "                          ,StructField(\"i94addr\", StringType(), True)\\\n",
    "                          ,StructField(\"depdate\", FloatType(), True)\\\n",
    "                          ,StructField(\"i94bir\", FloatType(), True)\\\n",
    "                          ,StructField(\"i94visa\", FloatType(), True)\\\n",
    "                          ,StructField(\"count\", FloatType(), True)\\\n",
    "                          ,StructField(\"dtadfile\", StringType(), True)\\\n",
    "                          ,StructField(\"visapost\", StringType(), True)\\\n",
    "                          ,StructField(\"entdepa\", StringType(), True)\\\n",
    "                          ,StructField(\"entdepd\", StringType(), True)\\\n",
    "                          ,StructField(\"entdepu\", StringType(), True)\\\n",
    "                          ,StructField(\"matflag\", StringType(), True)\\\n",
    "                          ,StructField(\"biryear\", FloatType(), True)\\\n",
    "                          ,StructField(\"dtaddto\", StringType(), True)\\\n",
    "                          ,StructField(\"gender\", StringType(), True)\\\n",
    "                          ,StructField(\"airline\", StringType(), True)\\\n",
    "                          ,StructField(\"admnum\", FloatType(), True)\\\n",
    "                          ,StructField(\"fltno\", StringType(), True)\\\n",
    "                          ,StructField(\"visatype\", StringType(), True)])"
   ]
  },
  {
   "cell_type": "code",
   "execution_count": 23,
   "metadata": {
    "editable": true
   },
   "outputs": [
    {
     "name": "stdout",
     "output_type": "stream",
     "text": [
      "951 27\n"
     ]
    }
   ],
   "source": [
    "immigration_spark = spark.createDataFrame(immigration_df, schema=immig_schema)\n",
    "print(immigration_spark.count(),len(immigration_spark.columns))"
   ]
  },
  {
   "cell_type": "code",
   "execution_count": 24,
   "metadata": {
    "editable": true
   },
   "outputs": [
    {
     "data": {
      "text/html": [
       "<div>\n",
       "<style scoped>\n",
       "    .dataframe tbody tr th:only-of-type {\n",
       "        vertical-align: middle;\n",
       "    }\n",
       "\n",
       "    .dataframe tbody tr th {\n",
       "        vertical-align: top;\n",
       "    }\n",
       "\n",
       "    .dataframe thead th {\n",
       "        text-align: right;\n",
       "    }\n",
       "</style>\n",
       "<table border=\"1\" class=\"dataframe\">\n",
       "  <thead>\n",
       "    <tr style=\"text-align: right;\">\n",
       "      <th></th>\n",
       "      <th>0</th>\n",
       "      <th>cicid</th>\n",
       "      <th>i94yr</th>\n",
       "      <th>i94mon</th>\n",
       "      <th>i94cit</th>\n",
       "      <th>i94res</th>\n",
       "      <th>i94port</th>\n",
       "      <th>arrdate</th>\n",
       "      <th>i94mode</th>\n",
       "      <th>i94addr</th>\n",
       "      <th>...</th>\n",
       "      <th>entdepd</th>\n",
       "      <th>entdepu</th>\n",
       "      <th>matflag</th>\n",
       "      <th>biryear</th>\n",
       "      <th>dtaddto</th>\n",
       "      <th>gender</th>\n",
       "      <th>airline</th>\n",
       "      <th>admnum</th>\n",
       "      <th>fltno</th>\n",
       "      <th>visatype</th>\n",
       "    </tr>\n",
       "  </thead>\n",
       "  <tbody>\n",
       "    <tr>\n",
       "      <th>0</th>\n",
       "      <td>2027561</td>\n",
       "      <td>4084316.0</td>\n",
       "      <td>2016.0</td>\n",
       "      <td>4.0</td>\n",
       "      <td>209.0</td>\n",
       "      <td>209.0</td>\n",
       "      <td>HHW</td>\n",
       "      <td>20566.0</td>\n",
       "      <td>1.0</td>\n",
       "      <td>HI</td>\n",
       "      <td>...</td>\n",
       "      <td>O</td>\n",
       "      <td>NaN</td>\n",
       "      <td>M</td>\n",
       "      <td>1955.0</td>\n",
       "      <td>07202016</td>\n",
       "      <td>F</td>\n",
       "      <td>JL</td>\n",
       "      <td>5.658268e+10</td>\n",
       "      <td>00782</td>\n",
       "      <td>WT</td>\n",
       "    </tr>\n",
       "    <tr>\n",
       "      <th>1</th>\n",
       "      <td>2171295</td>\n",
       "      <td>4422636.0</td>\n",
       "      <td>2016.0</td>\n",
       "      <td>4.0</td>\n",
       "      <td>582.0</td>\n",
       "      <td>582.0</td>\n",
       "      <td>MCA</td>\n",
       "      <td>20567.0</td>\n",
       "      <td>1.0</td>\n",
       "      <td>TX</td>\n",
       "      <td>...</td>\n",
       "      <td>R</td>\n",
       "      <td>NaN</td>\n",
       "      <td>M</td>\n",
       "      <td>1990.0</td>\n",
       "      <td>10222016</td>\n",
       "      <td>M</td>\n",
       "      <td>*GA</td>\n",
       "      <td>9.436199e+10</td>\n",
       "      <td>XBLNG</td>\n",
       "      <td>B2</td>\n",
       "    </tr>\n",
       "    <tr>\n",
       "      <th>2</th>\n",
       "      <td>589494</td>\n",
       "      <td>1195600.0</td>\n",
       "      <td>2016.0</td>\n",
       "      <td>4.0</td>\n",
       "      <td>148.0</td>\n",
       "      <td>112.0</td>\n",
       "      <td>OGG</td>\n",
       "      <td>20551.0</td>\n",
       "      <td>1.0</td>\n",
       "      <td>FL</td>\n",
       "      <td>...</td>\n",
       "      <td>O</td>\n",
       "      <td>NaN</td>\n",
       "      <td>M</td>\n",
       "      <td>1940.0</td>\n",
       "      <td>07052016</td>\n",
       "      <td>M</td>\n",
       "      <td>LH</td>\n",
       "      <td>5.578047e+10</td>\n",
       "      <td>00464</td>\n",
       "      <td>WT</td>\n",
       "    </tr>\n",
       "  </tbody>\n",
       "</table>\n",
       "<p>3 rows × 27 columns</p>\n",
       "</div>"
      ],
      "text/plain": [
       "         0      cicid   i94yr  i94mon  i94cit  i94res i94port  arrdate  \\\n",
       "0  2027561  4084316.0  2016.0     4.0   209.0   209.0     HHW  20566.0   \n",
       "1  2171295  4422636.0  2016.0     4.0   582.0   582.0     MCA  20567.0   \n",
       "2   589494  1195600.0  2016.0     4.0   148.0   112.0     OGG  20551.0   \n",
       "\n",
       "   i94mode i94addr   ...     entdepd  entdepu  matflag  biryear   dtaddto  \\\n",
       "0      1.0      HI   ...           O      NaN        M   1955.0  07202016   \n",
       "1      1.0      TX   ...           R      NaN        M   1990.0  10222016   \n",
       "2      1.0      FL   ...           O      NaN        M   1940.0  07052016   \n",
       "\n",
       "  gender airline        admnum  fltno visatype  \n",
       "0      F      JL  5.658268e+10  00782       WT  \n",
       "1      M     *GA  9.436199e+10  XBLNG       B2  \n",
       "2      M      LH  5.578047e+10  00464       WT  \n",
       "\n",
       "[3 rows x 27 columns]"
      ]
     },
     "execution_count": 24,
     "metadata": {},
     "output_type": "execute_result"
    }
   ],
   "source": [
    "immigration_spark.toPandas().head(3)"
   ]
  },
  {
   "cell_type": "code",
   "execution_count": 25,
   "metadata": {
    "editable": true
   },
   "outputs": [
    {
     "data": {
      "text/html": [
       "<div>\n",
       "<style scoped>\n",
       "    .dataframe tbody tr th:only-of-type {\n",
       "        vertical-align: middle;\n",
       "    }\n",
       "\n",
       "    .dataframe tbody tr th {\n",
       "        vertical-align: top;\n",
       "    }\n",
       "\n",
       "    .dataframe thead th {\n",
       "        text-align: right;\n",
       "    }\n",
       "</style>\n",
       "<table border=\"1\" class=\"dataframe\">\n",
       "  <thead>\n",
       "    <tr style=\"text-align: right;\">\n",
       "      <th></th>\n",
       "      <th>dt</th>\n",
       "      <th>average_temperature</th>\n",
       "      <th>average_temperature_uncertainty</th>\n",
       "      <th>city</th>\n",
       "      <th>country</th>\n",
       "      <th>latitude</th>\n",
       "      <th>longitude</th>\n",
       "    </tr>\n",
       "  </thead>\n",
       "  <tbody>\n",
       "    <tr>\n",
       "      <th>0</th>\n",
       "      <td>2000-01-01</td>\n",
       "      <td>3.065</td>\n",
       "      <td>0.372</td>\n",
       "      <td>Århus</td>\n",
       "      <td>Denmark</td>\n",
       "      <td>57.05N</td>\n",
       "      <td>10.33E</td>\n",
       "    </tr>\n",
       "    <tr>\n",
       "      <th>1</th>\n",
       "      <td>2000-02-01</td>\n",
       "      <td>3.724</td>\n",
       "      <td>0.241</td>\n",
       "      <td>Århus</td>\n",
       "      <td>Denmark</td>\n",
       "      <td>57.05N</td>\n",
       "      <td>10.33E</td>\n",
       "    </tr>\n",
       "    <tr>\n",
       "      <th>2</th>\n",
       "      <td>2000-03-01</td>\n",
       "      <td>3.976</td>\n",
       "      <td>0.296</td>\n",
       "      <td>Århus</td>\n",
       "      <td>Denmark</td>\n",
       "      <td>57.05N</td>\n",
       "      <td>10.33E</td>\n",
       "    </tr>\n",
       "    <tr>\n",
       "      <th>3</th>\n",
       "      <td>2000-04-01</td>\n",
       "      <td>8.321</td>\n",
       "      <td>0.221</td>\n",
       "      <td>Århus</td>\n",
       "      <td>Denmark</td>\n",
       "      <td>57.05N</td>\n",
       "      <td>10.33E</td>\n",
       "    </tr>\n",
       "    <tr>\n",
       "      <th>4</th>\n",
       "      <td>2000-05-01</td>\n",
       "      <td>13.567</td>\n",
       "      <td>0.253</td>\n",
       "      <td>Århus</td>\n",
       "      <td>Denmark</td>\n",
       "      <td>57.05N</td>\n",
       "      <td>10.33E</td>\n",
       "    </tr>\n",
       "  </tbody>\n",
       "</table>\n",
       "</div>"
      ],
      "text/plain": [
       "           dt  average_temperature  average_temperature_uncertainty   city  \\\n",
       "0  2000-01-01                3.065                            0.372  Århus   \n",
       "1  2000-02-01                3.724                            0.241  Århus   \n",
       "2  2000-03-01                3.976                            0.296  Århus   \n",
       "3  2000-04-01                8.321                            0.221  Århus   \n",
       "4  2000-05-01               13.567                            0.253  Århus   \n",
       "\n",
       "   country latitude longitude  \n",
       "0  Denmark   57.05N    10.33E  \n",
       "1  Denmark   57.05N    10.33E  \n",
       "2  Denmark   57.05N    10.33E  \n",
       "3  Denmark   57.05N    10.33E  \n",
       "4  Denmark   57.05N    10.33E  "
      ]
     },
     "execution_count": 25,
     "metadata": {},
     "output_type": "execute_result"
    }
   ],
   "source": [
    "globaltemp_schema = StructType([StructField(\"dt\", StringType(), True)\\\n",
    "                          ,StructField(\"average_temperature\", FloatType(), True)\\\n",
    "                          ,StructField(\"average_temperature_uncertainty\", FloatType(), True)\\\n",
    "                          ,StructField(\"city\", StringType(), True)\\\n",
    "                          ,StructField(\"country\", StringType(), True)\\\n",
    "                          ,StructField(\"latitude\", StringType(), True)\\\n",
    "                          ,StructField(\"longitude\", StringType(), True)])\n",
    "global_temperature_df.rename(columns={'AverageTemperature':'average_temperature'}, inplace=True)\n",
    "global_temperature_df.rename(columns={'AverageTemperatureUncertainty':'average_temperature_uncertainty'}, inplace=True)\n",
    "global_temperature_df.rename(columns={'City':'city'}, inplace=True)\n",
    "global_temperature_df.rename(columns={'Country':'country'}, inplace=True)\n",
    "global_temperature_df.rename(columns={'Latitude':'latitude'}, inplace=True)\n",
    "global_temperature_df.rename(columns={'Longitude':'longitude'}, inplace=True)\n",
    "\n",
    "temp_spark = spark.createDataFrame(global_temperature_df, schema=globaltemp_schema)\n",
    "\n",
    "temp_spark.toPandas().head()"
   ]
  },
  {
   "cell_type": "code",
   "execution_count": 26,
   "metadata": {
    "editable": true
   },
   "outputs": [
    {
     "data": {
      "text/plain": [
       "(576080, 7)"
      ]
     },
     "execution_count": 26,
     "metadata": {},
     "output_type": "execute_result"
    }
   ],
   "source": [
    "temp_spark.toPandas().shape"
   ]
  },
  {
   "cell_type": "code",
   "execution_count": 27,
   "metadata": {
    "editable": true
   },
   "outputs": [
    {
     "data": {
      "text/html": [
       "<div>\n",
       "<style scoped>\n",
       "    .dataframe tbody tr th:only-of-type {\n",
       "        vertical-align: middle;\n",
       "    }\n",
       "\n",
       "    .dataframe tbody tr th {\n",
       "        vertical-align: top;\n",
       "    }\n",
       "\n",
       "    .dataframe thead th {\n",
       "        text-align: right;\n",
       "    }\n",
       "</style>\n",
       "<table border=\"1\" class=\"dataframe\">\n",
       "  <thead>\n",
       "    <tr style=\"text-align: right;\">\n",
       "      <th></th>\n",
       "      <th>City</th>\n",
       "      <th>State</th>\n",
       "      <th>Median Age</th>\n",
       "      <th>Male Population</th>\n",
       "      <th>Female Population</th>\n",
       "      <th>Total Population</th>\n",
       "      <th>Number of Veterans</th>\n",
       "      <th>Foreign-born</th>\n",
       "      <th>Average Household Size</th>\n",
       "      <th>State Code</th>\n",
       "      <th>Race</th>\n",
       "      <th>Count</th>\n",
       "    </tr>\n",
       "  </thead>\n",
       "  <tbody>\n",
       "    <tr>\n",
       "      <th>0</th>\n",
       "      <td>Silver Spring</td>\n",
       "      <td>Maryland</td>\n",
       "      <td>33.799999</td>\n",
       "      <td>40601.0</td>\n",
       "      <td>41862.0</td>\n",
       "      <td>82463</td>\n",
       "      <td>1562.0</td>\n",
       "      <td>30908.0</td>\n",
       "      <td>2.60</td>\n",
       "      <td>MD</td>\n",
       "      <td>Hispanic or Latino</td>\n",
       "      <td>25924</td>\n",
       "    </tr>\n",
       "    <tr>\n",
       "      <th>1</th>\n",
       "      <td>Quincy</td>\n",
       "      <td>Massachusetts</td>\n",
       "      <td>41.000000</td>\n",
       "      <td>44129.0</td>\n",
       "      <td>49500.0</td>\n",
       "      <td>93629</td>\n",
       "      <td>4147.0</td>\n",
       "      <td>32935.0</td>\n",
       "      <td>2.39</td>\n",
       "      <td>MA</td>\n",
       "      <td>White</td>\n",
       "      <td>58723</td>\n",
       "    </tr>\n",
       "    <tr>\n",
       "      <th>2</th>\n",
       "      <td>Hoover</td>\n",
       "      <td>Alabama</td>\n",
       "      <td>38.500000</td>\n",
       "      <td>38040.0</td>\n",
       "      <td>46799.0</td>\n",
       "      <td>84839</td>\n",
       "      <td>4819.0</td>\n",
       "      <td>8229.0</td>\n",
       "      <td>2.58</td>\n",
       "      <td>AL</td>\n",
       "      <td>Asian</td>\n",
       "      <td>4759</td>\n",
       "    </tr>\n",
       "    <tr>\n",
       "      <th>3</th>\n",
       "      <td>Rancho Cucamonga</td>\n",
       "      <td>California</td>\n",
       "      <td>34.500000</td>\n",
       "      <td>88127.0</td>\n",
       "      <td>87105.0</td>\n",
       "      <td>175232</td>\n",
       "      <td>5821.0</td>\n",
       "      <td>33878.0</td>\n",
       "      <td>3.18</td>\n",
       "      <td>CA</td>\n",
       "      <td>Black or African-American</td>\n",
       "      <td>24437</td>\n",
       "    </tr>\n",
       "    <tr>\n",
       "      <th>4</th>\n",
       "      <td>Newark</td>\n",
       "      <td>New Jersey</td>\n",
       "      <td>34.599998</td>\n",
       "      <td>138040.0</td>\n",
       "      <td>143873.0</td>\n",
       "      <td>281913</td>\n",
       "      <td>5829.0</td>\n",
       "      <td>86253.0</td>\n",
       "      <td>2.73</td>\n",
       "      <td>NJ</td>\n",
       "      <td>White</td>\n",
       "      <td>76402</td>\n",
       "    </tr>\n",
       "  </tbody>\n",
       "</table>\n",
       "</div>"
      ],
      "text/plain": [
       "               City          State  Median Age  Male Population  \\\n",
       "0     Silver Spring       Maryland   33.799999          40601.0   \n",
       "1            Quincy  Massachusetts   41.000000          44129.0   \n",
       "2            Hoover        Alabama   38.500000          38040.0   \n",
       "3  Rancho Cucamonga     California   34.500000          88127.0   \n",
       "4            Newark     New Jersey   34.599998         138040.0   \n",
       "\n",
       "   Female Population  Total Population  Number of Veterans  Foreign-born  \\\n",
       "0            41862.0             82463              1562.0       30908.0   \n",
       "1            49500.0             93629              4147.0       32935.0   \n",
       "2            46799.0             84839              4819.0        8229.0   \n",
       "3            87105.0            175232              5821.0       33878.0   \n",
       "4           143873.0            281913              5829.0       86253.0   \n",
       "\n",
       "   Average Household Size State Code                       Race  Count  \n",
       "0                    2.60         MD         Hispanic or Latino  25924  \n",
       "1                    2.39         MA                      White  58723  \n",
       "2                    2.58         AL                      Asian   4759  \n",
       "3                    3.18         CA  Black or African-American  24437  \n",
       "4                    2.73         NJ                      White  76402  "
      ]
     },
     "execution_count": 27,
     "metadata": {},
     "output_type": "execute_result"
    }
   ],
   "source": [
    "dem_schema = StructType([StructField(\"City\", StringType(), True)\\\n",
    "                        ,StructField(\"State\", StringType(), True)\\\n",
    "                        ,StructField(\"Median Age\", FloatType(), True)\\\n",
    "                        ,StructField(\"Male Population\", FloatType(), True)\\\n",
    "                        ,StructField(\"Female Population\", FloatType(), True)\\\n",
    "                        ,StructField(\"Total Population\", IntegerType(), True)\\\n",
    "                        ,StructField(\"Number of Veterans\", FloatType(), True)\\\n",
    "                        ,StructField(\"Foreign-born\", FloatType(), True)\\\n",
    "                        ,StructField(\"Average Household Size\", FloatType(), True)\\\n",
    "                        ,StructField(\"State Code\", StringType(), True)\\\n",
    "                        ,StructField(\"Race\", StringType(), True)\\\n",
    "                        ,StructField(\"Count\", IntegerType(), True)])\n",
    "\n",
    "dem_spark = spark.createDataFrame(demographics_df, schema=dem_schema)\n",
    "\n",
    "dem_spark.toPandas().head()"
   ]
  },
  {
   "cell_type": "code",
   "execution_count": 28,
   "metadata": {
    "editable": true
   },
   "outputs": [
    {
     "data": {
      "text/html": [
       "<div>\n",
       "<style scoped>\n",
       "    .dataframe tbody tr th:only-of-type {\n",
       "        vertical-align: middle;\n",
       "    }\n",
       "\n",
       "    .dataframe tbody tr th {\n",
       "        vertical-align: top;\n",
       "    }\n",
       "\n",
       "    .dataframe thead th {\n",
       "        text-align: right;\n",
       "    }\n",
       "</style>\n",
       "<table border=\"1\" class=\"dataframe\">\n",
       "  <thead>\n",
       "    <tr style=\"text-align: right;\">\n",
       "      <th></th>\n",
       "      <th>ident</th>\n",
       "      <th>type</th>\n",
       "      <th>name</th>\n",
       "      <th>elevation_ft</th>\n",
       "      <th>continent</th>\n",
       "      <th>iso_country</th>\n",
       "      <th>iso_region</th>\n",
       "      <th>municipality</th>\n",
       "      <th>gps_code</th>\n",
       "      <th>iata_code</th>\n",
       "      <th>local_code</th>\n",
       "      <th>coordinates</th>\n",
       "    </tr>\n",
       "  </thead>\n",
       "  <tbody>\n",
       "    <tr>\n",
       "      <th>0</th>\n",
       "      <td>03N</td>\n",
       "      <td>small_airport</td>\n",
       "      <td>Utirik Airport</td>\n",
       "      <td>4.0</td>\n",
       "      <td>OC</td>\n",
       "      <td>MH</td>\n",
       "      <td>MH-UTI</td>\n",
       "      <td>Utirik Island</td>\n",
       "      <td>K03N</td>\n",
       "      <td>UTK</td>\n",
       "      <td>03N</td>\n",
       "      <td>169.852005, 11.222</td>\n",
       "    </tr>\n",
       "    <tr>\n",
       "      <th>1</th>\n",
       "      <td>07FA</td>\n",
       "      <td>small_airport</td>\n",
       "      <td>Ocean Reef Club Airport</td>\n",
       "      <td>8.0</td>\n",
       "      <td>NaN</td>\n",
       "      <td>US</td>\n",
       "      <td>US-FL</td>\n",
       "      <td>Key Largo</td>\n",
       "      <td>07FA</td>\n",
       "      <td>OCA</td>\n",
       "      <td>07FA</td>\n",
       "      <td>-80.274803161621, 25.325399398804</td>\n",
       "    </tr>\n",
       "    <tr>\n",
       "      <th>2</th>\n",
       "      <td>0AK</td>\n",
       "      <td>small_airport</td>\n",
       "      <td>Pilot Station Airport</td>\n",
       "      <td>305.0</td>\n",
       "      <td>NaN</td>\n",
       "      <td>US</td>\n",
       "      <td>US-AK</td>\n",
       "      <td>Pilot Station</td>\n",
       "      <td>NaN</td>\n",
       "      <td>PQS</td>\n",
       "      <td>0AK</td>\n",
       "      <td>-162.899994, 61.934601</td>\n",
       "    </tr>\n",
       "    <tr>\n",
       "      <th>3</th>\n",
       "      <td>0CO2</td>\n",
       "      <td>small_airport</td>\n",
       "      <td>Crested Butte Airpark</td>\n",
       "      <td>8980.0</td>\n",
       "      <td>NaN</td>\n",
       "      <td>US</td>\n",
       "      <td>US-CO</td>\n",
       "      <td>Crested Butte</td>\n",
       "      <td>0CO2</td>\n",
       "      <td>CSE</td>\n",
       "      <td>0CO2</td>\n",
       "      <td>-106.928341, 38.851918</td>\n",
       "    </tr>\n",
       "    <tr>\n",
       "      <th>4</th>\n",
       "      <td>0TE7</td>\n",
       "      <td>small_airport</td>\n",
       "      <td>LBJ Ranch Airport</td>\n",
       "      <td>1515.0</td>\n",
       "      <td>NaN</td>\n",
       "      <td>US</td>\n",
       "      <td>US-TX</td>\n",
       "      <td>Johnson City</td>\n",
       "      <td>0TE7</td>\n",
       "      <td>JCY</td>\n",
       "      <td>0TE7</td>\n",
       "      <td>-98.62249755859999, 30.251800537100003</td>\n",
       "    </tr>\n",
       "  </tbody>\n",
       "</table>\n",
       "</div>"
      ],
      "text/plain": [
       "  ident           type                     name  elevation_ft continent  \\\n",
       "0   03N  small_airport           Utirik Airport           4.0        OC   \n",
       "1  07FA  small_airport  Ocean Reef Club Airport           8.0       NaN   \n",
       "2   0AK  small_airport    Pilot Station Airport         305.0       NaN   \n",
       "3  0CO2  small_airport    Crested Butte Airpark        8980.0       NaN   \n",
       "4  0TE7  small_airport        LBJ Ranch Airport        1515.0       NaN   \n",
       "\n",
       "  iso_country iso_region   municipality gps_code iata_code local_code  \\\n",
       "0          MH     MH-UTI  Utirik Island     K03N       UTK        03N   \n",
       "1          US      US-FL      Key Largo     07FA       OCA       07FA   \n",
       "2          US      US-AK  Pilot Station      NaN       PQS        0AK   \n",
       "3          US      US-CO  Crested Butte     0CO2       CSE       0CO2   \n",
       "4          US      US-TX   Johnson City     0TE7       JCY       0TE7   \n",
       "\n",
       "                              coordinates  \n",
       "0                      169.852005, 11.222  \n",
       "1       -80.274803161621, 25.325399398804  \n",
       "2                  -162.899994, 61.934601  \n",
       "3                  -106.928341, 38.851918  \n",
       "4  -98.62249755859999, 30.251800537100003  "
      ]
     },
     "execution_count": 28,
     "metadata": {},
     "output_type": "execute_result"
    }
   ],
   "source": [
    "airport_schema =  StructType([StructField(\"ident\", StringType(), True)\\\n",
    "                        ,StructField(\"type\", StringType(), True)\\\n",
    "                        ,StructField(\"name\", StringType(), True)\\\n",
    "                        ,StructField(\"elevation_ft\", FloatType(), True)\\\n",
    "                        ,StructField(\"continent\", StringType(), True)\\\n",
    "                        ,StructField(\"iso_country\", StringType(), True)\\\n",
    "                        ,StructField(\"iso_region\", StringType(), True)\\\n",
    "                        ,StructField(\"municipality\", StringType(), True)\\\n",
    "                        ,StructField(\"gps_code\", StringType(), True)\\\n",
    "                        ,StructField(\"iata_code\", StringType(), True)\\\n",
    "                        ,StructField(\"local_code\", StringType(), True)\\\n",
    "                        ,StructField(\"coordinates\", StringType(), True)])\n",
    "airport_spark = spark.createDataFrame(airport_codes_df, schema=airport_schema)\n",
    "\n",
    "airport_spark.toPandas().head()"
   ]
  },
  {
   "cell_type": "markdown",
   "metadata": {
    "editable": true
   },
   "source": [
    "##### Define output path"
   ]
  },
  {
   "cell_type": "code",
   "execution_count": 29,
   "metadata": {
    "editable": true
   },
   "outputs": [],
   "source": [
    "output_path=\"table_data/\""
   ]
  },
  {
   "cell_type": "markdown",
   "metadata": {
    "editable": true
   },
   "source": [
    "##### 1.Create airport dimension"
   ]
  },
  {
   "cell_type": "code",
   "execution_count": 30,
   "metadata": {
    "editable": true
   },
   "outputs": [
    {
     "name": "stdout",
     "output_type": "stream",
     "text": [
      "Writing table airport to table_data/airport\n",
      "Write complete!\n"
     ]
    }
   ],
   "source": [
    "airport_spark = helper.create_airport(airport_spark, output_path)"
   ]
  },
  {
   "cell_type": "markdown",
   "metadata": {
    "editable": true
   },
   "source": [
    "##### 2.Create time dimension"
   ]
  },
  {
   "cell_type": "code",
   "execution_count": 31,
   "metadata": {
    "editable": true
   },
   "outputs": [
    {
     "name": "stdout",
     "output_type": "stream",
     "text": [
      "Writing table time to table_data/time\n",
      "Write complete!\n"
     ]
    }
   ],
   "source": [
    "time = helper.create_time(immigration_spark,output_path)"
   ]
  },
  {
   "cell_type": "markdown",
   "metadata": {
    "editable": true
   },
   "source": [
    "##### 3.Create status dimension"
   ]
  },
  {
   "cell_type": "code",
   "execution_count": 32,
   "metadata": {
    "editable": true
   },
   "outputs": [
    {
     "name": "stdout",
     "output_type": "stream",
     "text": [
      "Writing table status to table_data/status\n",
      "Write complete!\n"
     ]
    }
   ],
   "source": [
    "status = helper.create_status(immigration_spark,output_path)"
   ]
  },
  {
   "cell_type": "markdown",
   "metadata": {
    "editable": true
   },
   "source": [
    "##### 4.Create visa dimension"
   ]
  },
  {
   "cell_type": "code",
   "execution_count": 33,
   "metadata": {
    "editable": true
   },
   "outputs": [
    {
     "name": "stdout",
     "output_type": "stream",
     "text": [
      "Writing table visa to table_data/visa\n",
      "Write complete!\n"
     ]
    }
   ],
   "source": [
    "visa = helper.create_visa(immigration_spark,output_path)"
   ]
  },
  {
   "cell_type": "code",
   "execution_count": 34,
   "metadata": {
    "editable": true
   },
   "outputs": [],
   "source": [
    "def create_temperature(input_df, output_path):\n",
    "    \"\"\"\n",
    "        Gather temperature data, create dataframe and write data into parquet files.\n",
    "        \n",
    "        :param input_df: dataframe of input data.\n",
    "        :param output_data: path to write data to.\n",
    "        :return: dataframe representing temperature dimension\n",
    "    \"\"\"\n",
    "    print(\"creating temperature table data\")\n",
    "    output_df = input_df.groupBy(\"country\").agg(\n",
    "                round(mean('average_temperature'),1).alias(\"average_temperature\"),\\\n",
    "                round(mean(\"average_temperature_uncertainty\"),1).alias(\"average_temperature_uncertainty\")\n",
    "            ).dropna()\\\n",
    "            .withColumn(\"temperature_id\", monotonically_increasing_id()) \\\n",
    "            .select([\"temperature_id\", \"country\", \"average_temperature\", \"average_temperature_uncertainty\"])\n",
    "    \n",
    "    util.output_to_parquet_file(output_df, output_path, \"temperature\")\n",
    "    \n",
    "    return output_df\n"
   ]
  },
  {
   "cell_type": "markdown",
   "metadata": {
    "editable": true
   },
   "source": [
    "##### 5.Create temperature dimension"
   ]
  },
  {
   "cell_type": "code",
   "execution_count": 35,
   "metadata": {
    "editable": true
   },
   "outputs": [
    {
     "name": "stdout",
     "output_type": "stream",
     "text": [
      "creating temperature table data\n",
      "Writing table temperature to table_data/temperature\n",
      "Write complete!\n"
     ]
    }
   ],
   "source": [
    "temperature = create_temperature(temp_spark,output_path)"
   ]
  },
  {
   "cell_type": "markdown",
   "metadata": {
    "editable": true
   },
   "source": [
    "##### 6.Create country dimension"
   ]
  },
  {
   "cell_type": "code",
   "execution_count": 36,
   "metadata": {
    "editable": true
   },
   "outputs": [],
   "source": [
    "country_spark = spark.createDataFrame(country_code_df)"
   ]
  },
  {
   "cell_type": "code",
   "execution_count": 37,
   "metadata": {
    "editable": true
   },
   "outputs": [
    {
     "name": "stdout",
     "output_type": "stream",
     "text": [
      "Writing table country to table_data/country\n",
      "Write complete!\n"
     ]
    }
   ],
   "source": [
    "country = helper.create_country(country_spark,output_path)"
   ]
  },
  {
   "cell_type": "markdown",
   "metadata": {
    "editable": true
   },
   "source": [
    "##### 9.Create state dimension"
   ]
  },
  {
   "cell_type": "code",
   "execution_count": 38,
   "metadata": {
    "editable": true
   },
   "outputs": [],
   "source": [
    "def create_state(input_df, output_path):\n",
    "    \"\"\"\n",
    "        Get state specific data and create dataframe and write data into parquet files.\n",
    "        Here we will group the information by state code\n",
    "        Rename the columns from Xxxx Yyyy to xxx_yyy\n",
    "        Drop rows with null values\n",
    "        \n",
    "        :param input_df: dataframe of input data.\n",
    "        :param output_data: path to write data to.\n",
    "        :return: dataframe representing state dimension\n",
    "    \"\"\"\n",
    "    \n",
    "    output_df = input_df.select([\"State Code\", \"State\", \"Median Age\", \"Male Population\", \"Female Population\", \"Total Population\", \"Average Household Size\",\\\n",
    "                          \"Foreign-born\", \"Race\", \"Count\"])\\\n",
    "                .withColumnRenamed(\"State\",\"state\")\\\n",
    "                .withColumnRenamed(\"State Code\", \"state_code\")\\\n",
    "                .withColumnRenamed(\"Median Age\", \"median_age\")\\\n",
    "                .withColumnRenamed(\"Male Population\", \"male_population\")\\\n",
    "                .withColumnRenamed(\"Female Population\", \"female_population\")\\\n",
    "                .withColumnRenamed(\"Total Population\", \"total_population\")\\\n",
    "                .withColumnRenamed(\"Average Household Size\", \"avg_household_size\")\\\n",
    "                .withColumnRenamed(\"Foreign-born\", \"foreign_born\")\\\n",
    "                .withColumnRenamed(\"Race\", \"race\")\\\n",
    "                .withColumnRenamed(\"Count\", \"count\")\n",
    "    print(output_df.show(2))\n",
    "    output_df = output_df.groupBy(\"state_code\",\"state\").agg(\\\n",
    "                round(mean('median_age'),0).alias(\"median_age\"),\\\n",
    "                sum(\"total_population\").alias(\"total_population\"),\\\n",
    "                sum(\"male_population\").alias(\"male_population\"),\\\n",
    "                sum(\"female_population\").alias(\"female_population\"),\\\n",
    "                sum(\"foreign_born\").alias(\"foreign_born\"), \\\n",
    "                sum(\"avg_household_size\").alias(\"average_household_size\")\n",
    "                ).dropna()\n",
    "    \n",
    "    util.output_to_parquet_file(output_df, output_path, \"state\")\n",
    "    \n",
    "    return output_df"
   ]
  },
  {
   "cell_type": "code",
   "execution_count": 39,
   "metadata": {
    "editable": true
   },
   "outputs": [
    {
     "name": "stdout",
     "output_type": "stream",
     "text": [
      "+----------+-------------+----------+---------------+-----------------+----------------+------------------+------------+------------------+-----+\n",
      "|state_code|        state|median_age|male_population|female_population|total_population|avg_household_size|foreign_born|              race|count|\n",
      "+----------+-------------+----------+---------------+-----------------+----------------+------------------+------------+------------------+-----+\n",
      "|        MD|     Maryland|      33.8|        40601.0|          41862.0|           82463|               2.6|     30908.0|Hispanic or Latino|25924|\n",
      "|        MA|Massachusetts|      41.0|        44129.0|          49500.0|           93629|              2.39|     32935.0|             White|58723|\n",
      "+----------+-------------+----------+---------------+-----------------+----------------+------------------+------------+------------------+-----+\n",
      "only showing top 2 rows\n",
      "\n",
      "None\n",
      "Writing table state to table_data/state\n",
      "Write complete!\n"
     ]
    }
   ],
   "source": [
    "state = create_state(dem_spark,output_path)"
   ]
  },
  {
   "cell_type": "markdown",
   "metadata": {
    "editable": true
   },
   "source": [
    "##### Create Immigration Fact"
   ]
  },
  {
   "cell_type": "code",
   "execution_count": 40,
   "metadata": {
    "editable": true
   },
   "outputs": [],
   "source": [
    "# join city dimension and temperature dimension\n",
    "country_temperature = country.select([\"*\"])\\\n",
    "            .join(temperature, (country.country == upper(temperature.country)), how='full')\\\n",
    "            .select([country.code, country.country, temperature.temperature_id, temperature.average_temperature, temperature.average_temperature_uncertainty])\n",
    "\n",
    "country_temperature.write.mode(\"overwrite\").parquet(output_path+\"country_temperature_mapping\")"
   ]
  },
  {
   "cell_type": "code",
   "execution_count": 41,
   "metadata": {
    "editable": true
   },
   "outputs": [
    {
     "name": "stdout",
     "output_type": "stream",
     "text": [
      "Writing table immigration to table_data/immigration\n",
      "Write complete!\n"
     ]
    }
   ],
   "source": [
    "immigration = helper.create_immigration(immigration_spark, output_path, spark)"
   ]
  },
  {
   "cell_type": "markdown",
   "metadata": {
    "editable": true
   },
   "source": [
    "#### 4.2 Data Quality Checks\n",
    "Explain the data quality checks you'll perform to ensure the pipeline ran as expected. These could include:\n",
    " * Integrity constraints on the relational database (e.g., unique key, data type, etc.)\n",
    " * Unit tests for the scripts to ensure they are doing the right thing\n",
    " * Source/Count checks to ensure completeness\n",
    " \n"
   ]
  },
  {
   "cell_type": "markdown",
   "metadata": {
    "editable": true
   },
   "source": [
    "##### 1. Generic data check\n",
    "\n",
    "_In this section, top 5 rows are printed form each of the dimension and fact tables_"
   ]
  },
  {
   "cell_type": "code",
   "execution_count": 42,
   "metadata": {
    "editable": true
   },
   "outputs": [
    {
     "data": {
      "text/html": [
       "<div>\n",
       "<style scoped>\n",
       "    .dataframe tbody tr th:only-of-type {\n",
       "        vertical-align: middle;\n",
       "    }\n",
       "\n",
       "    .dataframe tbody tr th {\n",
       "        vertical-align: top;\n",
       "    }\n",
       "\n",
       "    .dataframe thead th {\n",
       "        text-align: right;\n",
       "    }\n",
       "</style>\n",
       "<table border=\"1\" class=\"dataframe\">\n",
       "  <thead>\n",
       "    <tr style=\"text-align: right;\">\n",
       "      <th></th>\n",
       "      <th>ident</th>\n",
       "      <th>type</th>\n",
       "      <th>iata_code</th>\n",
       "      <th>name</th>\n",
       "      <th>iso_country</th>\n",
       "      <th>iso_region</th>\n",
       "      <th>municipality</th>\n",
       "      <th>gps_code</th>\n",
       "      <th>coordinates</th>\n",
       "      <th>elevation_ft</th>\n",
       "    </tr>\n",
       "  </thead>\n",
       "  <tbody>\n",
       "    <tr>\n",
       "      <th>0</th>\n",
       "      <td>BNM</td>\n",
       "      <td>small_airport</td>\n",
       "      <td>BNM</td>\n",
       "      <td>Bodinumu Airport</td>\n",
       "      <td>PG</td>\n",
       "      <td>PG-CPM</td>\n",
       "      <td>Bodinumu</td>\n",
       "      <td>AYBD</td>\n",
       "      <td>147.666722222, -9.107777777779999</td>\n",
       "      <td>3700.0</td>\n",
       "    </tr>\n",
       "    <tr>\n",
       "      <th>1</th>\n",
       "      <td>CFF4</td>\n",
       "      <td>small_airport</td>\n",
       "      <td>DAS</td>\n",
       "      <td>Great Bear Lake Airport</td>\n",
       "      <td>CA</td>\n",
       "      <td>CA-NT</td>\n",
       "      <td>Great Bear Lake</td>\n",
       "      <td>CFF4</td>\n",
       "      <td>-119.707000732, 66.7031021118</td>\n",
       "      <td>562.0</td>\n",
       "    </tr>\n",
       "    <tr>\n",
       "      <th>2</th>\n",
       "      <td>CFQ4</td>\n",
       "      <td>small_airport</td>\n",
       "      <td>TIL</td>\n",
       "      <td>Cheadle Airport</td>\n",
       "      <td>CA</td>\n",
       "      <td>CA-AB</td>\n",
       "      <td>Cheadle</td>\n",
       "      <td>CFQ4</td>\n",
       "      <td>-113.62400054932, 51.057498931885</td>\n",
       "      <td>3300.0</td>\n",
       "    </tr>\n",
       "    <tr>\n",
       "      <th>3</th>\n",
       "      <td>KAPN</td>\n",
       "      <td>medium_airport</td>\n",
       "      <td>APN</td>\n",
       "      <td>Alpena County Regional Airport</td>\n",
       "      <td>US</td>\n",
       "      <td>US-MI</td>\n",
       "      <td>Alpena</td>\n",
       "      <td>KAPN</td>\n",
       "      <td>-83.56030273, 45.0780983</td>\n",
       "      <td>690.0</td>\n",
       "    </tr>\n",
       "    <tr>\n",
       "      <th>4</th>\n",
       "      <td>KBFI</td>\n",
       "      <td>large_airport</td>\n",
       "      <td>BFI</td>\n",
       "      <td>Boeing Field King County International Airport</td>\n",
       "      <td>US</td>\n",
       "      <td>US-WA</td>\n",
       "      <td>Seattle</td>\n",
       "      <td>KBFI</td>\n",
       "      <td>-122.302001953125, 47.529998779296875</td>\n",
       "      <td>21.0</td>\n",
       "    </tr>\n",
       "  </tbody>\n",
       "</table>\n",
       "</div>"
      ],
      "text/plain": [
       "  ident            type iata_code  \\\n",
       "0   BNM   small_airport       BNM   \n",
       "1  CFF4   small_airport       DAS   \n",
       "2  CFQ4   small_airport       TIL   \n",
       "3  KAPN  medium_airport       APN   \n",
       "4  KBFI   large_airport       BFI   \n",
       "\n",
       "                                             name iso_country iso_region  \\\n",
       "0                                Bodinumu Airport          PG     PG-CPM   \n",
       "1                         Great Bear Lake Airport          CA      CA-NT   \n",
       "2                                 Cheadle Airport          CA      CA-AB   \n",
       "3                  Alpena County Regional Airport          US      US-MI   \n",
       "4  Boeing Field King County International Airport          US      US-WA   \n",
       "\n",
       "      municipality gps_code                            coordinates  \\\n",
       "0         Bodinumu     AYBD      147.666722222, -9.107777777779999   \n",
       "1  Great Bear Lake     CFF4          -119.707000732, 66.7031021118   \n",
       "2          Cheadle     CFQ4      -113.62400054932, 51.057498931885   \n",
       "3           Alpena     KAPN               -83.56030273, 45.0780983   \n",
       "4          Seattle     KBFI  -122.302001953125, 47.529998779296875   \n",
       "\n",
       "   elevation_ft  \n",
       "0        3700.0  \n",
       "1         562.0  \n",
       "2        3300.0  \n",
       "3         690.0  \n",
       "4          21.0  "
      ]
     },
     "execution_count": 42,
     "metadata": {},
     "output_type": "execute_result"
    }
   ],
   "source": [
    "airport = spark.read.parquet(output_path+\"airport\")\n",
    "airport.toPandas().head()"
   ]
  },
  {
   "cell_type": "code",
   "execution_count": 43,
   "metadata": {
    "editable": true
   },
   "outputs": [
    {
     "data": {
      "text/html": [
       "<div>\n",
       "<style scoped>\n",
       "    .dataframe tbody tr th:only-of-type {\n",
       "        vertical-align: middle;\n",
       "    }\n",
       "\n",
       "    .dataframe tbody tr th {\n",
       "        vertical-align: top;\n",
       "    }\n",
       "\n",
       "    .dataframe thead th {\n",
       "        text-align: right;\n",
       "    }\n",
       "</style>\n",
       "<table border=\"1\" class=\"dataframe\">\n",
       "  <thead>\n",
       "    <tr style=\"text-align: right;\">\n",
       "      <th></th>\n",
       "      <th>arrdate</th>\n",
       "      <th>arrival_date</th>\n",
       "      <th>day</th>\n",
       "      <th>month</th>\n",
       "      <th>year</th>\n",
       "      <th>week</th>\n",
       "      <th>weekday</th>\n",
       "    </tr>\n",
       "  </thead>\n",
       "  <tbody>\n",
       "    <tr>\n",
       "      <th>0</th>\n",
       "      <td>20566.0</td>\n",
       "      <td>2016-04-22</td>\n",
       "      <td>22</td>\n",
       "      <td>4</td>\n",
       "      <td>2016</td>\n",
       "      <td>16</td>\n",
       "      <td>6</td>\n",
       "    </tr>\n",
       "    <tr>\n",
       "      <th>1</th>\n",
       "      <td>20567.0</td>\n",
       "      <td>2016-04-23</td>\n",
       "      <td>23</td>\n",
       "      <td>4</td>\n",
       "      <td>2016</td>\n",
       "      <td>16</td>\n",
       "      <td>7</td>\n",
       "    </tr>\n",
       "    <tr>\n",
       "      <th>2</th>\n",
       "      <td>20551.0</td>\n",
       "      <td>2016-04-07</td>\n",
       "      <td>7</td>\n",
       "      <td>4</td>\n",
       "      <td>2016</td>\n",
       "      <td>14</td>\n",
       "      <td>5</td>\n",
       "    </tr>\n",
       "    <tr>\n",
       "      <th>3</th>\n",
       "      <td>20572.0</td>\n",
       "      <td>2016-04-28</td>\n",
       "      <td>28</td>\n",
       "      <td>4</td>\n",
       "      <td>2016</td>\n",
       "      <td>17</td>\n",
       "      <td>5</td>\n",
       "    </tr>\n",
       "    <tr>\n",
       "      <th>4</th>\n",
       "      <td>20550.0</td>\n",
       "      <td>2016-04-06</td>\n",
       "      <td>6</td>\n",
       "      <td>4</td>\n",
       "      <td>2016</td>\n",
       "      <td>14</td>\n",
       "      <td>4</td>\n",
       "    </tr>\n",
       "  </tbody>\n",
       "</table>\n",
       "</div>"
      ],
      "text/plain": [
       "   arrdate arrival_date  day  month  year  week  weekday\n",
       "0  20566.0   2016-04-22   22      4  2016    16        6\n",
       "1  20567.0   2016-04-23   23      4  2016    16        7\n",
       "2  20551.0   2016-04-07    7      4  2016    14        5\n",
       "3  20572.0   2016-04-28   28      4  2016    17        5\n",
       "4  20550.0   2016-04-06    6      4  2016    14        4"
      ]
     },
     "execution_count": 43,
     "metadata": {},
     "output_type": "execute_result"
    }
   ],
   "source": [
    "time = spark.read.parquet(output_path+\"time\")\n",
    "time.toPandas().head()"
   ]
  },
  {
   "cell_type": "code",
   "execution_count": 44,
   "metadata": {
    "editable": true
   },
   "outputs": [
    {
     "data": {
      "text/html": [
       "<div>\n",
       "<style scoped>\n",
       "    .dataframe tbody tr th:only-of-type {\n",
       "        vertical-align: middle;\n",
       "    }\n",
       "\n",
       "    .dataframe tbody tr th {\n",
       "        vertical-align: top;\n",
       "    }\n",
       "\n",
       "    .dataframe thead th {\n",
       "        text-align: right;\n",
       "    }\n",
       "</style>\n",
       "<table border=\"1\" class=\"dataframe\">\n",
       "  <thead>\n",
       "    <tr style=\"text-align: right;\">\n",
       "      <th></th>\n",
       "      <th>status_flag_id</th>\n",
       "      <th>arrival_flag</th>\n",
       "      <th>departure_flag</th>\n",
       "      <th>match_flag</th>\n",
       "    </tr>\n",
       "  </thead>\n",
       "  <tbody>\n",
       "    <tr>\n",
       "      <th>0</th>\n",
       "      <td>8</td>\n",
       "      <td>O</td>\n",
       "      <td>O</td>\n",
       "      <td>M</td>\n",
       "    </tr>\n",
       "    <tr>\n",
       "      <th>1</th>\n",
       "      <td>35</td>\n",
       "      <td>A</td>\n",
       "      <td>D</td>\n",
       "      <td>M</td>\n",
       "    </tr>\n",
       "    <tr>\n",
       "      <th>2</th>\n",
       "      <td>101</td>\n",
       "      <td>Z</td>\n",
       "      <td>O</td>\n",
       "      <td>M</td>\n",
       "    </tr>\n",
       "    <tr>\n",
       "      <th>3</th>\n",
       "      <td>45</td>\n",
       "      <td>G</td>\n",
       "      <td>I</td>\n",
       "      <td>M</td>\n",
       "    </tr>\n",
       "    <tr>\n",
       "      <th>4</th>\n",
       "      <td>15</td>\n",
       "      <td>P</td>\n",
       "      <td>D</td>\n",
       "      <td>M</td>\n",
       "    </tr>\n",
       "  </tbody>\n",
       "</table>\n",
       "</div>"
      ],
      "text/plain": [
       "   status_flag_id arrival_flag departure_flag match_flag\n",
       "0               8            O              O          M\n",
       "1              35            A              D          M\n",
       "2             101            Z              O          M\n",
       "3              45            G              I          M\n",
       "4              15            P              D          M"
      ]
     },
     "execution_count": 44,
     "metadata": {},
     "output_type": "execute_result"
    }
   ],
   "source": [
    "status = spark.read.parquet(output_path+\"status\")\n",
    "status.toPandas().head()"
   ]
  },
  {
   "cell_type": "code",
   "execution_count": 45,
   "metadata": {
    "editable": true
   },
   "outputs": [
    {
     "data": {
      "text/html": [
       "<div>\n",
       "<style scoped>\n",
       "    .dataframe tbody tr th:only-of-type {\n",
       "        vertical-align: middle;\n",
       "    }\n",
       "\n",
       "    .dataframe tbody tr th {\n",
       "        vertical-align: top;\n",
       "    }\n",
       "\n",
       "    .dataframe thead th {\n",
       "        text-align: right;\n",
       "    }\n",
       "</style>\n",
       "<table border=\"1\" class=\"dataframe\">\n",
       "  <thead>\n",
       "    <tr style=\"text-align: right;\">\n",
       "      <th></th>\n",
       "      <th>visa_id</th>\n",
       "      <th>i94visa</th>\n",
       "      <th>visatype</th>\n",
       "      <th>visapost</th>\n",
       "    </tr>\n",
       "  </thead>\n",
       "  <tbody>\n",
       "    <tr>\n",
       "      <th>0</th>\n",
       "      <td>32</td>\n",
       "      <td>2.0</td>\n",
       "      <td>B2</td>\n",
       "      <td>CPT</td>\n",
       "    </tr>\n",
       "    <tr>\n",
       "      <th>1</th>\n",
       "      <td>78</td>\n",
       "      <td>2.0</td>\n",
       "      <td>B2</td>\n",
       "      <td>BGT</td>\n",
       "    </tr>\n",
       "    <tr>\n",
       "      <th>2</th>\n",
       "      <td>223</td>\n",
       "      <td>2.0</td>\n",
       "      <td>B2</td>\n",
       "      <td>KEV</td>\n",
       "    </tr>\n",
       "    <tr>\n",
       "      <th>3</th>\n",
       "      <td>425</td>\n",
       "      <td>2.0</td>\n",
       "      <td>B2</td>\n",
       "      <td>ABD</td>\n",
       "    </tr>\n",
       "    <tr>\n",
       "      <th>4</th>\n",
       "      <td>154</td>\n",
       "      <td>2.0</td>\n",
       "      <td>B2</td>\n",
       "      <td>BRA</td>\n",
       "    </tr>\n",
       "  </tbody>\n",
       "</table>\n",
       "</div>"
      ],
      "text/plain": [
       "   visa_id  i94visa visatype visapost\n",
       "0       32      2.0       B2      CPT\n",
       "1       78      2.0       B2      BGT\n",
       "2      223      2.0       B2      KEV\n",
       "3      425      2.0       B2      ABD\n",
       "4      154      2.0       B2      BRA"
      ]
     },
     "execution_count": 45,
     "metadata": {},
     "output_type": "execute_result"
    }
   ],
   "source": [
    "visa = spark.read.parquet(output_path+\"visa\")\n",
    "visa.toPandas().head()"
   ]
  },
  {
   "cell_type": "code",
   "execution_count": 46,
   "metadata": {
    "editable": true
   },
   "outputs": [
    {
     "data": {
      "text/html": [
       "<div>\n",
       "<style scoped>\n",
       "    .dataframe tbody tr th:only-of-type {\n",
       "        vertical-align: middle;\n",
       "    }\n",
       "\n",
       "    .dataframe tbody tr th {\n",
       "        vertical-align: top;\n",
       "    }\n",
       "\n",
       "    .dataframe thead th {\n",
       "        text-align: right;\n",
       "    }\n",
       "</style>\n",
       "<table border=\"1\" class=\"dataframe\">\n",
       "  <thead>\n",
       "    <tr style=\"text-align: right;\">\n",
       "      <th></th>\n",
       "      <th>temperature_id</th>\n",
       "      <th>country</th>\n",
       "      <th>average_temperature</th>\n",
       "      <th>average_temperature_uncertainty</th>\n",
       "    </tr>\n",
       "  </thead>\n",
       "  <tbody>\n",
       "    <tr>\n",
       "      <th>0</th>\n",
       "      <td>1675037245440</td>\n",
       "      <td>United Kingdom</td>\n",
       "      <td>10.1</td>\n",
       "      <td>0.3</td>\n",
       "    </tr>\n",
       "    <tr>\n",
       "      <th>1</th>\n",
       "      <td>1675037245441</td>\n",
       "      <td>Moldova</td>\n",
       "      <td>10.1</td>\n",
       "      <td>0.4</td>\n",
       "    </tr>\n",
       "    <tr>\n",
       "      <th>2</th>\n",
       "      <td>1675037245442</td>\n",
       "      <td>Congo (Democratic Republic Of The)</td>\n",
       "      <td>23.9</td>\n",
       "      <td>0.6</td>\n",
       "    </tr>\n",
       "    <tr>\n",
       "      <th>3</th>\n",
       "      <td>1649267441664</td>\n",
       "      <td>Bosnia And Herzegovina</td>\n",
       "      <td>11.6</td>\n",
       "      <td>0.4</td>\n",
       "    </tr>\n",
       "    <tr>\n",
       "      <th>4</th>\n",
       "      <td>1236950581248</td>\n",
       "      <td>United Arab Emirates</td>\n",
       "      <td>28.0</td>\n",
       "      <td>0.4</td>\n",
       "    </tr>\n",
       "  </tbody>\n",
       "</table>\n",
       "</div>"
      ],
      "text/plain": [
       "   temperature_id                             country  average_temperature  \\\n",
       "0   1675037245440                      United Kingdom                 10.1   \n",
       "1   1675037245441                             Moldova                 10.1   \n",
       "2   1675037245442  Congo (Democratic Republic Of The)                 23.9   \n",
       "3   1649267441664              Bosnia And Herzegovina                 11.6   \n",
       "4   1236950581248                United Arab Emirates                 28.0   \n",
       "\n",
       "   average_temperature_uncertainty  \n",
       "0                              0.3  \n",
       "1                              0.4  \n",
       "2                              0.6  \n",
       "3                              0.4  \n",
       "4                              0.4  "
      ]
     },
     "execution_count": 46,
     "metadata": {},
     "output_type": "execute_result"
    }
   ],
   "source": [
    "temperature = spark.read.parquet(output_path+\"temperature\")\n",
    "temperature.toPandas().head()"
   ]
  },
  {
   "cell_type": "code",
   "execution_count": 47,
   "metadata": {
    "editable": true
   },
   "outputs": [
    {
     "data": {
      "text/html": [
       "<div>\n",
       "<style scoped>\n",
       "    .dataframe tbody tr th:only-of-type {\n",
       "        vertical-align: middle;\n",
       "    }\n",
       "\n",
       "    .dataframe tbody tr th {\n",
       "        vertical-align: top;\n",
       "    }\n",
       "\n",
       "    .dataframe thead th {\n",
       "        text-align: right;\n",
       "    }\n",
       "</style>\n",
       "<table border=\"1\" class=\"dataframe\">\n",
       "  <thead>\n",
       "    <tr style=\"text-align: right;\">\n",
       "      <th></th>\n",
       "      <th>code</th>\n",
       "      <th>country</th>\n",
       "    </tr>\n",
       "  </thead>\n",
       "  <tbody>\n",
       "    <tr>\n",
       "      <th>0</th>\n",
       "      <td>236</td>\n",
       "      <td>AFGHANISTAN</td>\n",
       "    </tr>\n",
       "    <tr>\n",
       "      <th>1</th>\n",
       "      <td>101</td>\n",
       "      <td>ALBANIA</td>\n",
       "    </tr>\n",
       "    <tr>\n",
       "      <th>2</th>\n",
       "      <td>316</td>\n",
       "      <td>ALGERIA</td>\n",
       "    </tr>\n",
       "    <tr>\n",
       "      <th>3</th>\n",
       "      <td>102</td>\n",
       "      <td>ANDORRA</td>\n",
       "    </tr>\n",
       "    <tr>\n",
       "      <th>4</th>\n",
       "      <td>324</td>\n",
       "      <td>ANGOLA</td>\n",
       "    </tr>\n",
       "  </tbody>\n",
       "</table>\n",
       "</div>"
      ],
      "text/plain": [
       "  code      country\n",
       "0  236  AFGHANISTAN\n",
       "1  101      ALBANIA\n",
       "2  316      ALGERIA\n",
       "3  102      ANDORRA\n",
       "4  324       ANGOLA"
      ]
     },
     "execution_count": 47,
     "metadata": {},
     "output_type": "execute_result"
    }
   ],
   "source": [
    "country = spark.read.parquet(output_path+\"country\")\n",
    "country.toPandas().head()"
   ]
  },
  {
   "cell_type": "code",
   "execution_count": 48,
   "metadata": {
    "editable": true
   },
   "outputs": [
    {
     "data": {
      "text/html": [
       "<div>\n",
       "<style scoped>\n",
       "    .dataframe tbody tr th:only-of-type {\n",
       "        vertical-align: middle;\n",
       "    }\n",
       "\n",
       "    .dataframe tbody tr th {\n",
       "        vertical-align: top;\n",
       "    }\n",
       "\n",
       "    .dataframe thead th {\n",
       "        text-align: right;\n",
       "    }\n",
       "</style>\n",
       "<table border=\"1\" class=\"dataframe\">\n",
       "  <thead>\n",
       "    <tr style=\"text-align: right;\">\n",
       "      <th></th>\n",
       "      <th>state_code</th>\n",
       "      <th>state</th>\n",
       "      <th>median_age</th>\n",
       "      <th>total_population</th>\n",
       "      <th>male_population</th>\n",
       "      <th>female_population</th>\n",
       "      <th>foreign_born</th>\n",
       "      <th>average_household_size</th>\n",
       "    </tr>\n",
       "  </thead>\n",
       "  <tbody>\n",
       "    <tr>\n",
       "      <th>0</th>\n",
       "      <td>DC</td>\n",
       "      <td>District of Columbia</td>\n",
       "      <td>34.0</td>\n",
       "      <td>3361140</td>\n",
       "      <td>1598525.0</td>\n",
       "      <td>1762615.0</td>\n",
       "      <td>475585.0</td>\n",
       "      <td>11.200000</td>\n",
       "    </tr>\n",
       "    <tr>\n",
       "      <th>1</th>\n",
       "      <td>AZ</td>\n",
       "      <td>Arizona</td>\n",
       "      <td>35.0</td>\n",
       "      <td>22497710</td>\n",
       "      <td>11137275.0</td>\n",
       "      <td>11360435.0</td>\n",
       "      <td>3411565.0</td>\n",
       "      <td>221.950004</td>\n",
       "    </tr>\n",
       "    <tr>\n",
       "      <th>2</th>\n",
       "      <td>MO</td>\n",
       "      <td>Missouri</td>\n",
       "      <td>35.0</td>\n",
       "      <td>7595970</td>\n",
       "      <td>3666310.0</td>\n",
       "      <td>3929660.0</td>\n",
       "      <td>495475.0</td>\n",
       "      <td>108.449998</td>\n",
       "    </tr>\n",
       "    <tr>\n",
       "      <th>3</th>\n",
       "      <td>KS</td>\n",
       "      <td>Kansas</td>\n",
       "      <td>35.0</td>\n",
       "      <td>5741370</td>\n",
       "      <td>2820725.0</td>\n",
       "      <td>2920645.0</td>\n",
       "      <td>593225.0</td>\n",
       "      <td>90.700001</td>\n",
       "    </tr>\n",
       "    <tr>\n",
       "      <th>4</th>\n",
       "      <td>AR</td>\n",
       "      <td>Arkansas</td>\n",
       "      <td>33.0</td>\n",
       "      <td>2882889</td>\n",
       "      <td>1400724.0</td>\n",
       "      <td>1482165.0</td>\n",
       "      <td>307753.0</td>\n",
       "      <td>73.279999</td>\n",
       "    </tr>\n",
       "  </tbody>\n",
       "</table>\n",
       "</div>"
      ],
      "text/plain": [
       "  state_code                 state  median_age  total_population  \\\n",
       "0         DC  District of Columbia        34.0           3361140   \n",
       "1         AZ               Arizona        35.0          22497710   \n",
       "2         MO              Missouri        35.0           7595970   \n",
       "3         KS                Kansas        35.0           5741370   \n",
       "4         AR              Arkansas        33.0           2882889   \n",
       "\n",
       "   male_population  female_population  foreign_born  average_household_size  \n",
       "0        1598525.0          1762615.0      475585.0               11.200000  \n",
       "1       11137275.0         11360435.0     3411565.0              221.950004  \n",
       "2        3666310.0          3929660.0      495475.0              108.449998  \n",
       "3        2820725.0          2920645.0      593225.0               90.700001  \n",
       "4        1400724.0          1482165.0      307753.0               73.279999  "
      ]
     },
     "execution_count": 48,
     "metadata": {},
     "output_type": "execute_result"
    }
   ],
   "source": [
    "state = spark.read.parquet(output_path+\"state\")\n",
    "state.toPandas().head()"
   ]
  },
  {
   "cell_type": "code",
   "execution_count": 49,
   "metadata": {
    "editable": true
   },
   "outputs": [
    {
     "data": {
      "text/html": [
       "<div>\n",
       "<style scoped>\n",
       "    .dataframe tbody tr th:only-of-type {\n",
       "        vertical-align: middle;\n",
       "    }\n",
       "\n",
       "    .dataframe tbody tr th {\n",
       "        vertical-align: top;\n",
       "    }\n",
       "\n",
       "    .dataframe thead th {\n",
       "        text-align: right;\n",
       "    }\n",
       "</style>\n",
       "<table border=\"1\" class=\"dataframe\">\n",
       "  <thead>\n",
       "    <tr style=\"text-align: right;\">\n",
       "      <th></th>\n",
       "      <th>code</th>\n",
       "      <th>country</th>\n",
       "      <th>temperature_id</th>\n",
       "      <th>average_temperature</th>\n",
       "      <th>average_temperature_uncertainty</th>\n",
       "    </tr>\n",
       "  </thead>\n",
       "  <tbody>\n",
       "    <tr>\n",
       "      <th>0</th>\n",
       "      <td>383</td>\n",
       "      <td>CENTRAL AFRICAN REPUBLIC</td>\n",
       "      <td>7.730941e+11</td>\n",
       "      <td>25.7</td>\n",
       "      <td>0.6</td>\n",
       "    </tr>\n",
       "    <tr>\n",
       "      <th>1</th>\n",
       "      <td>None</td>\n",
       "      <td>None</td>\n",
       "      <td>5.755256e+11</td>\n",
       "      <td>26.2</td>\n",
       "      <td>0.3</td>\n",
       "    </tr>\n",
       "    <tr>\n",
       "      <th>2</th>\n",
       "      <td>104</td>\n",
       "      <td>BELGIUM</td>\n",
       "      <td>3.865471e+11</td>\n",
       "      <td>10.9</td>\n",
       "      <td>0.2</td>\n",
       "    </tr>\n",
       "    <tr>\n",
       "      <th>3</th>\n",
       "      <td>688</td>\n",
       "      <td>BOLIVIA</td>\n",
       "      <td>6.442451e+11</td>\n",
       "      <td>11.8</td>\n",
       "      <td>0.7</td>\n",
       "    </tr>\n",
       "    <tr>\n",
       "      <th>4</th>\n",
       "      <td>240</td>\n",
       "      <td>EAST TIMOR</td>\n",
       "      <td>NaN</td>\n",
       "      <td>NaN</td>\n",
       "      <td>NaN</td>\n",
       "    </tr>\n",
       "  </tbody>\n",
       "</table>\n",
       "</div>"
      ],
      "text/plain": [
       "   code                   country  temperature_id  average_temperature  \\\n",
       "0   383  CENTRAL AFRICAN REPUBLIC    7.730941e+11                 25.7   \n",
       "1  None                      None    5.755256e+11                 26.2   \n",
       "2   104                   BELGIUM    3.865471e+11                 10.9   \n",
       "3   688                   BOLIVIA    6.442451e+11                 11.8   \n",
       "4   240                EAST TIMOR             NaN                  NaN   \n",
       "\n",
       "   average_temperature_uncertainty  \n",
       "0                              0.6  \n",
       "1                              0.3  \n",
       "2                              0.2  \n",
       "3                              0.7  \n",
       "4                              NaN  "
      ]
     },
     "execution_count": 49,
     "metadata": {},
     "output_type": "execute_result"
    }
   ],
   "source": [
    "country_temperature = spark.read.parquet(output_path+\"country_temperature_mapping\")\n",
    "country_temperature.toPandas().head()"
   ]
  },
  {
   "cell_type": "code",
   "execution_count": 50,
   "metadata": {
    "editable": true
   },
   "outputs": [
    {
     "data": {
      "text/html": [
       "<div>\n",
       "<style scoped>\n",
       "    .dataframe tbody tr th:only-of-type {\n",
       "        vertical-align: middle;\n",
       "    }\n",
       "\n",
       "    .dataframe tbody tr th {\n",
       "        vertical-align: top;\n",
       "    }\n",
       "\n",
       "    .dataframe thead th {\n",
       "        text-align: right;\n",
       "    }\n",
       "</style>\n",
       "<table border=\"1\" class=\"dataframe\">\n",
       "  <thead>\n",
       "    <tr style=\"text-align: right;\">\n",
       "      <th></th>\n",
       "      <th>cicid</th>\n",
       "      <th>i94res</th>\n",
       "      <th>depdate</th>\n",
       "      <th>i94mode</th>\n",
       "      <th>i94port</th>\n",
       "      <th>i94cit</th>\n",
       "      <th>i94addr</th>\n",
       "      <th>airline</th>\n",
       "      <th>fltno</th>\n",
       "      <th>ident</th>\n",
       "      <th>code</th>\n",
       "      <th>temperature_id</th>\n",
       "      <th>status_flag_id</th>\n",
       "      <th>visa_id</th>\n",
       "      <th>state_code</th>\n",
       "      <th>country</th>\n",
       "      <th>arrdate</th>\n",
       "    </tr>\n",
       "  </thead>\n",
       "  <tbody>\n",
       "    <tr>\n",
       "      <th>0</th>\n",
       "      <td>4084316.0</td>\n",
       "      <td>209.0</td>\n",
       "      <td>20573.0</td>\n",
       "      <td>1.0</td>\n",
       "      <td>HHW</td>\n",
       "      <td>209.0</td>\n",
       "      <td>HI</td>\n",
       "      <td>JL</td>\n",
       "      <td>00782</td>\n",
       "      <td>None</td>\n",
       "      <td>209</td>\n",
       "      <td>1.417339e+12</td>\n",
       "      <td>0</td>\n",
       "      <td>0</td>\n",
       "      <td>HI</td>\n",
       "      <td>JAPAN</td>\n",
       "      <td>20566.0</td>\n",
       "    </tr>\n",
       "    <tr>\n",
       "      <th>1</th>\n",
       "      <td>4084316.0</td>\n",
       "      <td>209.0</td>\n",
       "      <td>20573.0</td>\n",
       "      <td>1.0</td>\n",
       "      <td>HHW</td>\n",
       "      <td>209.0</td>\n",
       "      <td>HI</td>\n",
       "      <td>JL</td>\n",
       "      <td>00782</td>\n",
       "      <td>None</td>\n",
       "      <td>209</td>\n",
       "      <td>1.417339e+12</td>\n",
       "      <td>0</td>\n",
       "      <td>0</td>\n",
       "      <td>HI</td>\n",
       "      <td>JAPAN</td>\n",
       "      <td>20566.0</td>\n",
       "    </tr>\n",
       "    <tr>\n",
       "      <th>2</th>\n",
       "      <td>4084316.0</td>\n",
       "      <td>209.0</td>\n",
       "      <td>20573.0</td>\n",
       "      <td>1.0</td>\n",
       "      <td>HHW</td>\n",
       "      <td>209.0</td>\n",
       "      <td>HI</td>\n",
       "      <td>JL</td>\n",
       "      <td>00782</td>\n",
       "      <td>None</td>\n",
       "      <td>209</td>\n",
       "      <td>1.417339e+12</td>\n",
       "      <td>0</td>\n",
       "      <td>0</td>\n",
       "      <td>HI</td>\n",
       "      <td>JAPAN</td>\n",
       "      <td>20566.0</td>\n",
       "    </tr>\n",
       "    <tr>\n",
       "      <th>3</th>\n",
       "      <td>4084316.0</td>\n",
       "      <td>209.0</td>\n",
       "      <td>20573.0</td>\n",
       "      <td>1.0</td>\n",
       "      <td>HHW</td>\n",
       "      <td>209.0</td>\n",
       "      <td>HI</td>\n",
       "      <td>JL</td>\n",
       "      <td>00782</td>\n",
       "      <td>None</td>\n",
       "      <td>209</td>\n",
       "      <td>1.417339e+12</td>\n",
       "      <td>0</td>\n",
       "      <td>0</td>\n",
       "      <td>HI</td>\n",
       "      <td>JAPAN</td>\n",
       "      <td>20566.0</td>\n",
       "    </tr>\n",
       "    <tr>\n",
       "      <th>4</th>\n",
       "      <td>4084316.0</td>\n",
       "      <td>209.0</td>\n",
       "      <td>20573.0</td>\n",
       "      <td>1.0</td>\n",
       "      <td>HHW</td>\n",
       "      <td>209.0</td>\n",
       "      <td>HI</td>\n",
       "      <td>JL</td>\n",
       "      <td>00782</td>\n",
       "      <td>None</td>\n",
       "      <td>209</td>\n",
       "      <td>1.417339e+12</td>\n",
       "      <td>0</td>\n",
       "      <td>0</td>\n",
       "      <td>HI</td>\n",
       "      <td>JAPAN</td>\n",
       "      <td>20566.0</td>\n",
       "    </tr>\n",
       "  </tbody>\n",
       "</table>\n",
       "</div>"
      ],
      "text/plain": [
       "       cicid  i94res  depdate  i94mode i94port  i94cit i94addr airline  fltno  \\\n",
       "0  4084316.0   209.0  20573.0      1.0     HHW   209.0      HI      JL  00782   \n",
       "1  4084316.0   209.0  20573.0      1.0     HHW   209.0      HI      JL  00782   \n",
       "2  4084316.0   209.0  20573.0      1.0     HHW   209.0      HI      JL  00782   \n",
       "3  4084316.0   209.0  20573.0      1.0     HHW   209.0      HI      JL  00782   \n",
       "4  4084316.0   209.0  20573.0      1.0     HHW   209.0      HI      JL  00782   \n",
       "\n",
       "  ident code  temperature_id  status_flag_id  visa_id state_code country  \\\n",
       "0  None  209    1.417339e+12               0        0         HI   JAPAN   \n",
       "1  None  209    1.417339e+12               0        0         HI   JAPAN   \n",
       "2  None  209    1.417339e+12               0        0         HI   JAPAN   \n",
       "3  None  209    1.417339e+12               0        0         HI   JAPAN   \n",
       "4  None  209    1.417339e+12               0        0         HI   JAPAN   \n",
       "\n",
       "   arrdate  \n",
       "0  20566.0  \n",
       "1  20566.0  \n",
       "2  20566.0  \n",
       "3  20566.0  \n",
       "4  20566.0  "
      ]
     },
     "execution_count": 50,
     "metadata": {},
     "output_type": "execute_result"
    }
   ],
   "source": [
    "immigration = spark.read.parquet(output_path+\"immigration\")\n",
    "immigration.toPandas().head()"
   ]
  },
  {
   "cell_type": "markdown",
   "metadata": {
    "editable": true
   },
   "source": [
    "##### 2. Record count check\n",
    "##### _In this section, a generic record count is done for each table_"
   ]
  },
  {
   "cell_type": "code",
   "execution_count": 51,
   "metadata": {
    "editable": true
   },
   "outputs": [
    {
     "name": "stdout",
     "output_type": "stream",
     "text": [
      "Record count check passed for airport table with record count: 2987 records.\n",
      "Record count check passed for time table with record count: 951 records.\n",
      "Record count check passed for status table with record count: 28 records.\n",
      "Record count check passed for visa table with record count: 141 records.\n",
      "Record count check passed for state table with record count: 48 records.\n",
      "Record count check passed for temperature table with record count: 159 records.\n",
      "Record count check passed for immigration table with record count: 31425 records.\n"
     ]
    },
    {
     "data": {
      "text/plain": [
       "0"
      ]
     },
     "execution_count": 51,
     "metadata": {},
     "output_type": "execute_result"
    }
   ],
   "source": [
    "util.run_record_count_check(airport, \"airport\")\n",
    "util.run_record_count_check(time, \"time\")\n",
    "util.run_record_count_check(status, \"status\")\n",
    "util.run_record_count_check(visa, \"visa\")\n",
    "util.run_record_count_check(state, \"state\")\n",
    "util.run_record_count_check(temperature, \"temperature\")\n",
    "util.run_record_count_check(immigration, \"immigration\")"
   ]
  },
  {
   "cell_type": "code",
   "execution_count": null,
   "metadata": {
    "editable": true
   },
   "outputs": [],
   "source": []
  },
  {
   "cell_type": "markdown",
   "metadata": {
    "editable": true
   },
   "source": [
    "##### 2. Custom data check\n",
    "_In this section, results for custom queries are printed_"
   ]
  },
  {
   "cell_type": "markdown",
   "metadata": {
    "editable": true
   },
   "source": [
    "* Get total count of immigrants for each country"
   ]
  },
  {
   "cell_type": "code",
   "execution_count": 52,
   "metadata": {
    "editable": true
   },
   "outputs": [
    {
     "data": {
      "text/plain": [
       "country\n",
       "ANGOLA               35\n",
       "ANTIGUA-BARBUDA      29\n",
       "ARGENTINA           685\n",
       "AUSTRALIA          1503\n",
       "AUSTRIA             179\n",
       "Name: country, dtype: int64"
      ]
     },
     "execution_count": 52,
     "metadata": {},
     "output_type": "execute_result"
    }
   ],
   "source": [
    "imm_df = immigration.toPandas()\n",
    "imm_df = imm_df.groupby(['country'])['country'].count()\n",
    "imm_df.head()"
   ]
  },
  {
   "cell_type": "markdown",
   "metadata": {
    "editable": true
   },
   "source": [
    "#### Data Dictionary"
   ]
  },
  {
   "cell_type": "markdown",
   "metadata": {
    "editable": true
   },
   "source": [
    "__Please refer Data Dictionary.ipynb file__"
   ]
  },
  {
   "cell_type": "markdown",
   "metadata": {
    "editable": true
   },
   "source": [
    "#### Step 5: Complete Project Write Up\n",
    "* Clearly state the rationale for the choice of tools and technologies for the project.\n",
    "* Propose how often the data should be updated and why.\n",
    "* Write a description of how you would approach the problem differently under the following scenarios:\n",
    " * The data was increased by 100x.\n",
    " * The data populates a dashboard that must be updated on a daily basis by 7am every day.\n",
    " * The database needed to be accessed by 100+ people."
   ]
  },
  {
   "cell_type": "markdown",
   "metadata": {
    "editable": true
   },
   "source": [
    "##### 5.1 Rationale for the choice of tools and technologies for the project."
   ]
  },
  {
   "cell_type": "markdown",
   "metadata": {
    "editable": true
   },
   "source": [
    "* Used Apache Spark, so that we can take advantage of Spark's feature of caching data in memory and also parallel processing.\n",
    "* Used Pandas data frames for convenience in data manipulation."
   ]
  },
  {
   "cell_type": "markdown",
   "metadata": {
    "editable": true
   },
   "source": [
    "##### 5.2 How often the data should be updated/refreshed, why?"
   ]
  },
  {
   "cell_type": "markdown",
   "metadata": {
    "editable": true
   },
   "source": [
    "* From the project's perspective, it depends on how often the immigration dataset gets updated as the data on other dimension tables depneds on immigration data.  If the immigration data gets updated on a monthly basis, then all other data should be updated monthly"
   ]
  },
  {
   "cell_type": "markdown",
   "metadata": {
    "editable": true
   },
   "source": [
    "##### 5.3 Approach in different scenarios"
   ]
  },
  {
   "cell_type": "markdown",
   "metadata": {
    "editable": true
   },
   "source": [
    "###### a. If the data is increased by 100x\n",
    "* I would have to use frameworks like Amazon Redshift, EMR Cluster etc to handle such a magnitude of data"
   ]
  },
  {
   "cell_type": "markdown",
   "metadata": {
    "editable": true
   },
   "source": [
    "###### b. If the data populates a dashboard that needs to be updated by 7am daily\n",
    "* In this case, I would use Apache Airflow DAG which facilitates scheduling building/managing data pipelines on a timely basis."
   ]
  },
  {
   "cell_type": "markdown",
   "metadata": {
    "editable": true
   },
   "source": [
    "###### c. If 100+ people are going to access the system\n",
    "* In this case I would have to use a tried and tested set up like Amazon Redshift, Snowflakes and few other similar setup which are known to handle high database traffic."
   ]
  },
  {
   "cell_type": "code",
   "execution_count": null,
   "metadata": {
    "editable": true
   },
   "outputs": [],
   "source": []
  }
 ],
 "metadata": {
  "kernelspec": {
   "display_name": "Python 3",
   "language": "python",
   "name": "python3"
  },
  "language_info": {
   "codemirror_mode": {
    "name": "ipython",
    "version": 3
   },
   "file_extension": ".py",
   "mimetype": "text/x-python",
   "name": "python",
   "nbconvert_exporter": "python",
   "pygments_lexer": "ipython3",
   "version": "3.6.3"
  }
 },
 "nbformat": 4,
 "nbformat_minor": 4
}
