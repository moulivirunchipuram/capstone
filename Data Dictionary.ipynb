{
 "cells": [
  {
   "cell_type": "markdown",
   "metadata": {
    "editable": true
   },
   "source": [
    "# Data Dictionary"
   ]
  },
  {
   "cell_type": "markdown",
   "metadata": {
    "editable": true
   },
   "source": [
    "##### GLOBAL TEMPERATURE"
   ]
  },
  {
   "cell_type": "markdown",
   "metadata": {
    "editable": true
   },
   "source": [
    "|Column|Description|\n",
    "|-------|----------|\n",
    "|dt|Date (first day of the month)|\n",
    "|AverageTemperature|Average Temperature for the month in Celsius|\n",
    "|AverageTemperatureUncertainty|don't know what it is|\n",
    "|City|Name of city|\n",
    "|Country|Name of country|\n",
    "|Latitude|Latitude of city|\n",
    "|Longitude|Longitude of city|"
   ]
  },
  {
   "cell_type": "markdown",
   "metadata": {
    "editable": true
   },
   "source": [
    " #### AIRPORT CODES"
   ]
  },
  {
   "cell_type": "markdown",
   "metadata": {
    "editable": true
   },
   "source": [
    "|Column|Description|\n",
    "|-------|----------|\n",
    "|ident|Unique Identifier|\n",
    "|type|Type of airport viz., heliport, small/medium/large airport|\n",
    "|name|Name of airport|\n",
    "|elevationi_ft|Elevation from sea level|\n",
    "|continent|Name of continent|\n",
    "|iso_country|ISO Country Code|\n",
    "|iso_region|ISO Region Code|\n",
    "|municipality|Municipality of airport city|\n",
    "|gps_code|GPS Code for the Airport|\n",
    "|iata_code|Airport IATA Code|\n",
    "|local_code|Aiport local code|\n",
    "|coordinates|Latitude and Longitude of airport|"
   ]
  },
  {
   "cell_type": "markdown",
   "metadata": {
    "editable": true
   },
   "source": [
    "#### US CITY DEMOGRAPHICS"
   ]
  },
  {
   "cell_type": "markdown",
   "metadata": {
    "editable": true
   },
   "source": [
    "|Column|Description|\n",
    "|---------|---------|\n",
    "|City|Name of the city|\n",
    "|State|Name of the state|\n",
    "|Median Age|Median age of population|\n",
    "|Male Population|Male Population count|\n",
    "|Female Population|Female Population count|\n",
    "|Total Population|Total Population(Male+Female)|\n",
    "|Number of Veterans|Veteran population count|\n",
    "|Foreign-born|Count of foreign-born people|\n",
    "|Average Household Size|Average no.of persons in a house|\n",
    "|State Code|State Code|\n",
    "|Race|Racial Information|\n",
    "|Count|Count|"
   ]
  },
  {
   "cell_type": "markdown",
   "metadata": {
    "editable": true
   },
   "source": [
    "#### IMMIGRATION"
   ]
  },
  {
   "cell_type": "markdown",
   "metadata": {
    "editable": true
   },
   "source": [
    "|column|Description|\n",
    "|-------|-----------|\n",
    "|cicid|Unique Identifier|\n",
    "|i94yr|Year of i94|\n",
    "|i94mon|Month of i94|\n",
    "|i94cit|3 digit code of immigrant's country of birth|\n",
    "|i94res|3 digit code of immigrant's country of residence|\n",
    "|i94port|Immigrant's port of entry|\n",
    "|arrdate|Date of arrival in the US|\n",
    "|i94mode|Mode of arrival (1-Air; 2-Sea; 3-Land 9-Unknown|\n",
    "|i94addr|State code of arrival|\n",
    "|depdate|Date of departure from the US|\n",
    "|i94bir|Age in years|\n",
    "|i94visa|Visa code|\n",
    "|dtadfile|Date when added to I-94 file|\n",
    "|visapost|Place of issuance of visa|\n",
    "|occup|Occupation in US|\n",
    "|entdepa|Arrival Flag|\n",
    "|entdepd|Departure Flag|\n",
    "|entdepu|Update Flag - extended stay, changed status to permanent res|\n",
    "|matflag|Match flag  (arrival and departure records)|\n",
    "|biryear|4 digit year of birth|\n",
    "|dtaddto|Date until stay is allowed|\n",
    "|gender|Immigrant's gender|\n",
    "|insnum|INS number|\n",
    "|airline|Airline by which immmigrant entered the US|\n",
    "|admnum|Admission number|\n",
    "|fltno|Flight number|\n",
    "|visatype|Visa class with which immigrant entered the US|\n"
   ]
  }
 ],
 "metadata": {
  "kernelspec": {
   "display_name": "Python 3",
   "language": "python",
   "name": "python3"
  },
  "language_info": {
   "codemirror_mode": {
    "name": "ipython",
    "version": 3
   },
   "file_extension": ".py",
   "mimetype": "text/x-python",
   "name": "python",
   "nbconvert_exporter": "python",
   "pygments_lexer": "ipython3",
   "version": "3.6.3"
  }
 },
 "nbformat": 4,
 "nbformat_minor": 4
}
